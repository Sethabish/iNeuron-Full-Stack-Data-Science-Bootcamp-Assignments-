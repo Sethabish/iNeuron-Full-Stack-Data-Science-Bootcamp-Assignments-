{
 "cells": [
  {
   "cell_type": "markdown",
   "id": "6b322fd2",
   "metadata": {},
   "source": [
    "1) Write a python program to extract unique dictionary values."
   ]
  },
  {
   "cell_type": "code",
   "execution_count": 1,
   "id": "eddecff8",
   "metadata": {},
   "outputs": [
    {
     "name": "stdout",
     "output_type": "stream",
     "text": [
      "Unique dict values: {40, 10, 20, 30}\n"
     ]
    }
   ],
   "source": [
    "d = {'key1':10, 'key2':20, 'key3':30, 'key4':40,'key5':40, 'key6':30, 'key7':20, 'key8':10}\n",
    "print('Unique dict values:',set(d.values()))"
   ]
  },
  {
   "cell_type": "markdown",
   "id": "88e161be",
   "metadata": {},
   "source": [
    "2) Write a Python program to find the sum of all items in a dictionary."
   ]
  },
  {
   "cell_type": "code",
   "execution_count": 2,
   "id": "81b11a48",
   "metadata": {},
   "outputs": [
    {
     "name": "stdout",
     "output_type": "stream",
     "text": [
      "Sum of all items in the dict: 36\n"
     ]
    }
   ],
   "source": [
    "d = {1:2, 3:4, 5:6, 7:8}\n",
    "s = sum(d.keys()) + sum(d.values())\n",
    "print('Sum of all items in the dict:',s)"
   ]
  },
  {
   "cell_type": "markdown",
   "id": "c1055ddf",
   "metadata": {},
   "source": [
    "3) Write a Python program to merge two Dictionaries."
   ]
  },
  {
   "cell_type": "code",
   "execution_count": 3,
   "id": "88ba8f65",
   "metadata": {},
   "outputs": [
    {
     "name": "stdout",
     "output_type": "stream",
     "text": [
      "Merged dictionary: {'key1': 10, 'key2': 20, 'key3': 30, 'key4': 40, 1: 2, 3: 4, 5: 6, 7: 8}\n"
     ]
    }
   ],
   "source": [
    "d1 = {'key1':10, 'key2':20, 'key3':30, 'key4':40}\n",
    "d2 = {1:2, 3:4, 5:6, 7:8}\n",
    "d1.update(d2)\n",
    "print('Merged dictionary:', d1)"
   ]
  },
  {
   "cell_type": "markdown",
   "id": "c3997fba",
   "metadata": {},
   "source": [
    "4) Write a Python program to convert key-values list to flat dictionary."
   ]
  },
  {
   "cell_type": "code",
   "execution_count": 4,
   "id": "6638e485",
   "metadata": {},
   "outputs": [
    {
     "data": {
      "text/plain": [
       "{'A': 10, 'B': 20, 'C': 30, 'D': 40, 'E': 50}"
      ]
     },
     "execution_count": 4,
     "metadata": {},
     "output_type": "execute_result"
    }
   ],
   "source": [
    "l = [('A',10),('B',20),('C',30),('D',40),('E',50)]\n",
    "dict(l)"
   ]
  },
  {
   "cell_type": "markdown",
   "id": "114abb26",
   "metadata": {},
   "source": [
    "5) Write a Python program to insertion at the beginning in OrderedDict."
   ]
  },
  {
   "cell_type": "code",
   "execution_count": 5,
   "id": "4b4c1729",
   "metadata": {},
   "outputs": [
    {
     "name": "stdout",
     "output_type": "stream",
     "text": [
      "OrderedDict([('key5', 50), ('key1', 10), ('key2', 20), ('key3', 30), ('key4', 40)])\n"
     ]
    }
   ],
   "source": [
    "from collections import OrderedDict\n",
    "d1 = OrderedDict({'key1':10, 'key2':20, 'key3':30, 'key4':40})\n",
    "d2 = {'key5':50}\n",
    "d1.update(d2)\n",
    "d1.move_to_end('key5',last=False)\n",
    "print(d1)"
   ]
  },
  {
   "cell_type": "markdown",
   "id": "2a8f555d",
   "metadata": {},
   "source": [
    "6) Write a Python program to check order of character in string using OrderedDict()."
   ]
  },
  {
   "cell_type": "code",
   "execution_count": 6,
   "id": "1c680ef2",
   "metadata": {},
   "outputs": [
    {
     "name": "stdout",
     "output_type": "stream",
     "text": [
      "OrderedDict([('a', 10), ('b', 50), ('c', 40), ('d', 30), ('e', 60), ('f', 20)])\n"
     ]
    }
   ],
   "source": [
    "from collections import OrderedDict\n",
    "d1 = {'a': 10, 'f': 20, 'd': 30, 'c': 40, 'b': 50, 'e': 60}\n",
    "d2 = OrderedDict(dict(sorted(d1.items())))\n",
    "print(d2)"
   ]
  },
  {
   "cell_type": "markdown",
   "id": "8f572bd7",
   "metadata": {},
   "source": [
    "7) Write a Python program to sort Python Dictionaries by Key or Value."
   ]
  },
  {
   "cell_type": "code",
   "execution_count": 7,
   "id": "2ed3b46f",
   "metadata": {},
   "outputs": [
    {
     "name": "stdout",
     "output_type": "stream",
     "text": [
      "{'a': 10, 'b': 50, 'c': 40, 'd': 30, 'e': 60, 'f': 20}\n",
      "{'a': 10, 'f': 20, 'd': 30, 'c': 40, 'b': 50, 'e': 60}\n"
     ]
    }
   ],
   "source": [
    "d = {'a': 10, 'f': 20, 'd': 30, 'c': 40, 'b': 50, 'e': 60}\n",
    "print(dict(sorted(d.items(), key=lambda x:x[0], reverse=False)))\n",
    "print(dict(sorted(d.items(), key=lambda x:x[1], reverse=False)))"
   ]
  }
 ],
 "metadata": {
  "kernelspec": {
   "display_name": "Python 3 (ipykernel)",
   "language": "python",
   "name": "python3"
  },
  "language_info": {
   "codemirror_mode": {
    "name": "ipython",
    "version": 3
   },
   "file_extension": ".py",
   "mimetype": "text/x-python",
   "name": "python",
   "nbconvert_exporter": "python",
   "pygments_lexer": "ipython3",
   "version": "3.10.4"
  }
 },
 "nbformat": 4,
 "nbformat_minor": 5
}
