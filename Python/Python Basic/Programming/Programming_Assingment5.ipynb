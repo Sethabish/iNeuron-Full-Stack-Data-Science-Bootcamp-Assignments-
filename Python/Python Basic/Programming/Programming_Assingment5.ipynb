{
 "cells": [
  {
   "cell_type": "markdown",
   "id": "1899e8aa",
   "metadata": {},
   "source": [
    "1) Write a Python Program to Find LCM?"
   ]
  },
  {
   "cell_type": "code",
   "execution_count": 1,
   "id": "fcd1a0d1",
   "metadata": {},
   "outputs": [
    {
     "name": "stdout",
     "output_type": "stream",
     "text": [
      "Enter two numbers: 10 100\n",
      "L.C.M of 10 and 100 is 100\n"
     ]
    }
   ],
   "source": [
    "x, y = input(\"Enter two numbers: \").split()\n",
    "a = [int(x),int(y)]\n",
    "a.sort()\n",
    "o = a[-1]\n",
    "l=[]\n",
    "for i in range(o):\n",
    "    if a[0] % (i+1) == 0 and a[1] % (i+1) == 0:\n",
    "        l.append(i+1)\n",
    "lcm = (a[0]*a[1])/l[-1]\n",
    "print('L.C.M of', a[0], 'and', a[1], 'is', int(lcm))"
   ]
  },
  {
   "cell_type": "markdown",
   "id": "6159c11f",
   "metadata": {},
   "source": [
    "2) Write a Python Program to Find HCF?"
   ]
  },
  {
   "cell_type": "code",
   "execution_count": 2,
   "id": "88b04e06",
   "metadata": {},
   "outputs": [
    {
     "name": "stdout",
     "output_type": "stream",
     "text": [
      "Enter two numbers: 22 44\n",
      "H.C.F of 22 and 44 is 22\n"
     ]
    }
   ],
   "source": [
    "x, y = input(\"Enter two numbers: \").split()\n",
    "a = [int(x),int(y)]\n",
    "a.sort()\n",
    "o = a[-1]\n",
    "l=[]\n",
    "for i in range(o):\n",
    "    if a[0] % (i+1) == 0 and a[1] % (i+1) == 0:\n",
    "        l.append(i+1)\n",
    "print('H.C.F of', a[0], 'and', a[1], 'is', l[-1])"
   ]
  },
  {
   "cell_type": "markdown",
   "id": "854625b3",
   "metadata": {},
   "source": [
    "3) Write a Python Program to Convert Decimal to Binary, Octal and Hexadecimal?"
   ]
  },
  {
   "cell_type": "code",
   "execution_count": 3,
   "id": "75405fbd",
   "metadata": {},
   "outputs": [
    {
     "name": "stdout",
     "output_type": "stream",
     "text": [
      "Enter a value: 22\n",
      "The decimal value of 22 : in binary is 0b10110 , in octal is 0o26 , in hexadecimal is 0x16 .\n"
     ]
    }
   ],
   "source": [
    "x = int(input('Enter a value: '))\n",
    "print('The decimal value of', x, ':', 'in binary is',  bin(x), ', in octal is', oct(x), ', in hexadecimal is', hex(x),'.')"
   ]
  },
  {
   "cell_type": "markdown",
   "id": "b5e961c2",
   "metadata": {},
   "source": [
    "4) Write a Python Program to Find ASCII value of a character?"
   ]
  },
  {
   "cell_type": "code",
   "execution_count": 4,
   "id": "bf1d7b37",
   "metadata": {},
   "outputs": [
    {
     "name": "stdout",
     "output_type": "stream",
     "text": [
      " Enter a character: J\n",
      "ASCII value of J is 74\n"
     ]
    }
   ],
   "source": [
    "x = input(' Enter a character: ')\n",
    "print('ASCII value of', x, 'is', ord(x))"
   ]
  },
  {
   "cell_type": "markdown",
   "id": "59df1759",
   "metadata": {},
   "source": [
    "5) Write a Python Program to Make a Simple Calculator with 4 basic mathematical operations?"
   ]
  },
  {
   "cell_type": "code",
   "execution_count": 5,
   "id": "dd242c65",
   "metadata": {},
   "outputs": [
    {
     "name": "stdout",
     "output_type": "stream",
     "text": [
      "Enter first number: 10\n",
      "Enter second number: 50\n",
      "Enter 1 for Addition\n",
      "Enter 2 for Substraction\n",
      "Enter 3 for Multiplication\n",
      "Enter 4 for Division\n",
      "Enter your choice: 4\n",
      "Division : 10.0 / 50.0 = 0.2\n"
     ]
    }
   ],
   "source": [
    "n = float(input('Enter first number: '))\n",
    "m = float(input('Enter second number: '))\n",
    "print('Enter 1 for Addition\\nEnter 2 for Substraction\\nEnter 3 for Multiplication\\nEnter 4 for Division')\n",
    "o = int(input('Enter your choice: '))\n",
    "if o == 1:\n",
    "    p = n + m\n",
    "    print('Addition :', n, '+', m, '=', p)\n",
    "elif o == 2:\n",
    "    p = n - m\n",
    "    print('Substraction :', n, '-', m, '=', p)\n",
    "elif o == 3:\n",
    "    p = n * m\n",
    "    print('Multiplication :', n, '*', m, '=', p)\n",
    "elif o == 4:\n",
    "    p = n / m\n",
    "    print('Division :', n, '/', m, '=', p)\n",
    "else:\n",
    "    print('Invalid Input')"
   ]
  }
 ],
 "metadata": {
  "kernelspec": {
   "display_name": "Python 3 (ipykernel)",
   "language": "python",
   "name": "python3"
  },
  "language_info": {
   "codemirror_mode": {
    "name": "ipython",
    "version": 3
   },
   "file_extension": ".py",
   "mimetype": "text/x-python",
   "name": "python",
   "nbconvert_exporter": "python",
   "pygments_lexer": "ipython3",
   "version": "3.10.4"
  }
 },
 "nbformat": 4,
 "nbformat_minor": 5
}
