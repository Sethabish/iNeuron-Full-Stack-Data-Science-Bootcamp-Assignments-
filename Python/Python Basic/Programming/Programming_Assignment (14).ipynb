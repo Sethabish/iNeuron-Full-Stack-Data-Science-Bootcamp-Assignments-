{
 "cells": [
  {
   "cell_type": "markdown",
   "id": "1dc772a9",
   "metadata": {},
   "source": [
    "### Question 1:\n",
    "#### Define a class with a generator which can iterate the numbers, which are divisible by 7, between a given range 0 and n."
   ]
  },
  {
   "cell_type": "code",
   "execution_count": 1,
   "id": "a686bb83",
   "metadata": {},
   "outputs": [
    {
     "name": "stdout",
     "output_type": "stream",
     "text": [
      "Enter range: 50\n",
      "0 7 14 21 28 35 42 49 "
     ]
    }
   ],
   "source": [
    "class gendiv_7:\n",
    "    def div_7(self,n):\n",
    "        for i in range(n):\n",
    "            if i % 7 == 0:\n",
    "                yield i\n",
    "n = gendiv_7()\n",
    "m = int(input('Enter range: '))\n",
    "for j in n.div_7(m):\n",
    "    print(j, end=' ')"
   ]
  },
  {
   "cell_type": "markdown",
   "id": "5db16cfb",
   "metadata": {},
   "source": [
    "### Question 2:\n",
    "#### Write a program to compute the frequency of the words from the input. The output should output after sorting the key alphanumerically. \n",
    "\n",
    "* Suppose the following input is supplied to the program: New to Python or choosing between Python 2 and Python 3? Read Python 2 or Python 3.\n",
    "* Then, the output should be: 2:2 3.:1 3?:1 New:1 Python:5 Read:1 and:1 between:1 choosing:1 or:2 to:1\n"
   ]
  },
  {
   "cell_type": "code",
   "execution_count": 5,
   "id": "0c6f6289",
   "metadata": {},
   "outputs": [
    {
     "name": "stdout",
     "output_type": "stream",
     "text": [
      "Enter input: New to Python or choosing between Python 2 and Python 3? Read Python 2 or Python 3.\n",
      "Frequency of words:\n",
      "2 : 2\n",
      "3. : 1\n",
      "3? : 1\n",
      "New : 1\n",
      "Python : 5\n",
      "Read : 1\n",
      "and : 1\n",
      "between : 1\n",
      "choosing : 1\n",
      "or : 2\n",
      "to : 1\n"
     ]
    }
   ],
   "source": [
    "input1 = list(input('Enter input: ').split())\n",
    "input2 = sorted(set(input1))\n",
    "print('Frequency of words:')\n",
    "for i in input2:\n",
    "    count = 0\n",
    "    for j in range(len(input1)):\n",
    "        if i == input1[j]:\n",
    "            count = count + 1\n",
    "    print(i,':',count)"
   ]
  },
  {
   "cell_type": "markdown",
   "id": "f489a8ce",
   "metadata": {},
   "source": [
    "### Question 3:\n",
    "#### Define a class Person and its two child classes: Male and Female. All classes have a method \"getGender\" which can print \"Male\" for Male class and \"Female\" for Female class."
   ]
  },
  {
   "cell_type": "code",
   "execution_count": 6,
   "id": "18a96f5c",
   "metadata": {},
   "outputs": [
    {
     "name": "stdout",
     "output_type": "stream",
     "text": [
      "Male\n",
      "Female\n"
     ]
    }
   ],
   "source": [
    "class Person():\n",
    "    def getGender():\n",
    "        pass\n",
    "    \n",
    "class Male(Person):\n",
    "    def getGender():\n",
    "        print(\"Male\")\n",
    "        \n",
    "class Female(Person):\n",
    "    def getGender():\n",
    "        print(\"Female\")\n",
    "\n",
    "Male.getGender()\n",
    "Female.getGender()"
   ]
  },
  {
   "cell_type": "markdown",
   "id": "dc514667",
   "metadata": {},
   "source": [
    "### Question 4:\n",
    "#### Please write a program to generate all sentences where subject is in [\"I\", \"You\"] and verb is in [\"Play\", \"Love\"] and the object is in [\"Hockey\",\"Football\"]."
   ]
  },
  {
   "cell_type": "code",
   "execution_count": 7,
   "id": "b9de92fa",
   "metadata": {},
   "outputs": [
    {
     "name": "stdout",
     "output_type": "stream",
     "text": [
      "I Play Hockey\n",
      "I Play Football\n",
      "I Love Hockey\n",
      "I Love Football\n",
      "You Play Hockey\n",
      "You Play Football\n",
      "You Love Hockey\n",
      "You Love Football\n"
     ]
    }
   ],
   "source": [
    "subject,verb,object = ['I','You'],['Play','Love'],['Hockey','Football']\n",
    "for i in subject:\n",
    "    for j in verb:\n",
    "        for k in object:\n",
    "            print(i,j,k)"
   ]
  },
  {
   "cell_type": "markdown",
   "id": "2ee9a642",
   "metadata": {},
   "source": [
    "### Question 5:\n",
    "#### Please write a program to compress and decompress the string \"hello world!hello world!hello world!hello world!\"."
   ]
  },
  {
   "cell_type": "code",
   "execution_count": 9,
   "id": "699d8881",
   "metadata": {},
   "outputs": [
    {
     "name": "stdout",
     "output_type": "stream",
     "text": [
      "hel2o world!hel2o world!hel2o world!hel2o world!"
     ]
    }
   ],
   "source": [
    "def compstr(s):\n",
    "    for i in s:\n",
    "        l = ''\n",
    "        count = 0\n",
    "        for j in range(len(s)):\n",
    "            if i == s[j]:\n",
    "                count = count + 1\n",
    "            else:\n",
    "                break\n",
    "        for k in range(len(s)):\n",
    "            if k >= count:\n",
    "                l=l+s[k]\n",
    "        print(i,end='')\n",
    "        if count > 1:\n",
    "            print(count,end='')\n",
    "        return(compstr(l))\n",
    "\n",
    "compstr('hello world!hello world!hello world!hello world!')"
   ]
  },
  {
   "cell_type": "code",
   "execution_count": 10,
   "id": "f67c80fa",
   "metadata": {},
   "outputs": [
    {
     "name": "stdout",
     "output_type": "stream",
     "text": [
      "hello world!hello world!hello world!hello world!\n"
     ]
    }
   ],
   "source": [
    "def decompstr(s):\n",
    "    for i in range(len(s)):\n",
    "        num = '123456789'\n",
    "        l,o = '',''\n",
    "        if len(s) > 1:\n",
    "            if s[1] in num:\n",
    "                l = s[0] * int(s[1])\n",
    "                for j in range(len(s)):\n",
    "                    if j >= 2:\n",
    "                        o=o+s[j]\n",
    "            else:\n",
    "                l = s[0]\n",
    "                for k in range(len(s)):\n",
    "                    if k >= 1:\n",
    "                        o=o+s[k]\n",
    "        else:\n",
    "            print(s[0])\n",
    "        print(l,end='')\n",
    "        return(decompstr(o))\n",
    "    \n",
    "decompstr('hel2o world!hel2o world!hel2o world!hel2o world!')"
   ]
  },
  {
   "cell_type": "markdown",
   "id": "bb46e6b4",
   "metadata": {},
   "source": [
    "### Question 6:\n",
    "#### Please write a binary search function which searches an item in a sorted list. The function should return the index of element to be searched in the list."
   ]
  },
  {
   "cell_type": "code",
   "execution_count": 13,
   "id": "cab8b6af",
   "metadata": {},
   "outputs": [
    {
     "name": "stdout",
     "output_type": "stream",
     "text": [
      "Element: 10\n",
      "Index: 9\n"
     ]
    }
   ],
   "source": [
    "l = [1,2,3,4,5,6,7,8,9,10]\n",
    "n = int(input('Element: '))\n",
    "m=l\n",
    "while True:\n",
    "    mid = round((len(l)/2))\n",
    "    o=[]\n",
    "    if l[mid]==n:\n",
    "        print('Index:',m.index(n))\n",
    "        break\n",
    "    elif l[-1]<n:\n",
    "        print('not in list')\n",
    "        break\n",
    "    elif l[mid]>n:\n",
    "        for j in range(len(l)):\n",
    "            if j < mid:\n",
    "                o.append(l[j])\n",
    "    elif l[mid]<n:\n",
    "        for k in range(len(l)):\n",
    "            if k >= mid:\n",
    "                o.append(l[k])\n",
    "    l=o"
   ]
  }
 ],
 "metadata": {
  "kernelspec": {
   "display_name": "Python 3 (ipykernel)",
   "language": "python",
   "name": "python3"
  },
  "language_info": {
   "codemirror_mode": {
    "name": "ipython",
    "version": 3
   },
   "file_extension": ".py",
   "mimetype": "text/x-python",
   "name": "python",
   "nbconvert_exporter": "python",
   "pygments_lexer": "ipython3",
   "version": "3.10.4"
  }
 },
 "nbformat": 4,
 "nbformat_minor": 5
}
