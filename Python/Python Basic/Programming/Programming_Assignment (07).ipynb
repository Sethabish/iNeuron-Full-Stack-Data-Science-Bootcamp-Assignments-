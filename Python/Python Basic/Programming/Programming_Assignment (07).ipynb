{
 "cells": [
  {
   "cell_type": "markdown",
   "id": "06398ee7",
   "metadata": {},
   "source": [
    "1) Write a Python Program to find sum of array?"
   ]
  },
  {
   "cell_type": "code",
   "execution_count": 2,
   "id": "2b448948",
   "metadata": {},
   "outputs": [
    {
     "name": "stdout",
     "output_type": "stream",
     "text": [
      "Sum of elements in array: 10\n"
     ]
    }
   ],
   "source": [
    "import array as ary  \n",
    "a = ary.array('i', [1, 2, 3, 4])\n",
    "s = 0\n",
    "for i in a:\n",
    "    s = s + i\n",
    "print('Sum of elements in array:',s)"
   ]
  },
  {
   "cell_type": "markdown",
   "id": "8f083fe1",
   "metadata": {},
   "source": [
    "2) Write a Python Program to find largest element in an array?"
   ]
  },
  {
   "cell_type": "code",
   "execution_count": 3,
   "id": "7f326251",
   "metadata": {},
   "outputs": [
    {
     "name": "stdout",
     "output_type": "stream",
     "text": [
      "Largest element in the array is: 4\n"
     ]
    }
   ],
   "source": [
    "import array as ary  \n",
    "a = ary.array('i', [3, 2, 1, 4])\n",
    "m = a[0]\n",
    "for i in range(len(a)):\n",
    "    if a[i] > m:\n",
    "        m = a[i]\n",
    "print('Largest element in the array is:',m)"
   ]
  },
  {
   "cell_type": "markdown",
   "id": "d2c331fc",
   "metadata": {},
   "source": [
    "3) Write a Python Program for array rotation?"
   ]
  },
  {
   "cell_type": "code",
   "execution_count": 5,
   "id": "920dc101",
   "metadata": {},
   "outputs": [
    {
     "name": "stdout",
     "output_type": "stream",
     "text": [
      "Enter the interval by which the array should be rotated: 4\n",
      "Actual array: [1, 2, 3, 4, 5, 6, 7, 8, 9, 10]\n",
      "Rotated array: [5, 6, 7, 8, 9, 10, 1, 2, 3, 4]\n"
     ]
    }
   ],
   "source": [
    "d = int(input('Enter the interval by which the array should be rotated: '))\n",
    "print('Actual array:',a)\n",
    "a = [1,2,3,4,5,6,7,8,9,10]\n",
    "l1=[]\n",
    "l2=[]\n",
    "for i in range(len(a)):\n",
    "    if i > (d-1):\n",
    "        l1.append(a[i])\n",
    "for j in range(len(a)):\n",
    "    if j < d:\n",
    "        l2.append(a[j])\n",
    "l=l1+l2\n",
    "print('Rotated array:',l)"
   ]
  },
  {
   "cell_type": "markdown",
   "id": "47959c39",
   "metadata": {},
   "source": [
    "4) Write a Python Program to Split the array and add the first part to the end?"
   ]
  },
  {
   "cell_type": "code",
   "execution_count": 7,
   "id": "4924876b",
   "metadata": {},
   "outputs": [
    {
     "name": "stdout",
     "output_type": "stream",
     "text": [
      "Actual array: [1, 2, 3, 4, 5, 6, 7, 8, 9, 10]\n",
      "Output array: [6, 7, 8, 9, 10, 1, 2, 3, 4, 5]\n"
     ]
    }
   ],
   "source": [
    "print('Actual array:',a)\n",
    "a = [1,2,3,4,5,6,7,8,9,10]\n",
    "d= len(a)/2\n",
    "l1=[]\n",
    "l2=[]\n",
    "for i in range(len(a)):\n",
    "    if i > (d-1):\n",
    "        l1.append(a[i])\n",
    "for j in range(len(a)):\n",
    "    if j < d:\n",
    "        l2.append(a[j])\n",
    "l=l1+l2\n",
    "print('Output array:',l)"
   ]
  },
  {
   "cell_type": "markdown",
   "id": "c26e07a3",
   "metadata": {},
   "source": [
    "5) Write a Python Program to check if given array is Monotonic?"
   ]
  },
  {
   "cell_type": "code",
   "execution_count": 8,
   "id": "1d159144",
   "metadata": {},
   "outputs": [
    {
     "name": "stdout",
     "output_type": "stream",
     "text": [
      "Enter multiple values: 1 2 3 3 4 55\n",
      "The array is monotonic\n"
     ]
    }
   ],
   "source": [
    "a = list(map(int, input(\"Enter multiple values: \").split()))\n",
    "m,n=0,0\n",
    "for i in range(len(a)-1):\n",
    "    if a[i+1] >= a[i]:\n",
    "        continue\n",
    "    else:\n",
    "        m = 'asc'\n",
    "        break\n",
    "for i in range(len(a)-1): \n",
    "    if a[i+1] <= a[i]:\n",
    "        continue\n",
    "    else:\n",
    "        n = 'des'\n",
    "        break\n",
    "if m == 'asc' and n == 'des':\n",
    "    print('The array is not monotonic')\n",
    "else:\n",
    "    print('The array is monotonic')"
   ]
  }
 ],
 "metadata": {
  "kernelspec": {
   "display_name": "Python 3 (ipykernel)",
   "language": "python",
   "name": "python3"
  },
  "language_info": {
   "codemirror_mode": {
    "name": "ipython",
    "version": 3
   },
   "file_extension": ".py",
   "mimetype": "text/x-python",
   "name": "python",
   "nbconvert_exporter": "python",
   "pygments_lexer": "ipython3",
   "version": "3.10.4"
  }
 },
 "nbformat": 4,
 "nbformat_minor": 5
}
