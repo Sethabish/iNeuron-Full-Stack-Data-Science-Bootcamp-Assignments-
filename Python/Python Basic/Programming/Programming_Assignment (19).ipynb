{
 "cells": [
  {
   "cell_type": "markdown",
   "id": "ce9bbc60",
   "metadata": {},
   "source": [
    "### Question 1:\n",
    "#### Create a function that takes a string and returns a string in which each character is repeated once.\n",
    "* Examples\n",
    "* double_char(\"String\") ➞ \"SSttrriinngg\"\n",
    "* double_char(\"Hello World!\") ➞ \"HHeelllloo  WWoorrlldd!!\"\n",
    "* double_char(\"1234!_ \") ➞ \"11223344!!__  \""
   ]
  },
  {
   "cell_type": "code",
   "execution_count": 1,
   "id": "080d9d70",
   "metadata": {},
   "outputs": [
    {
     "name": "stdout",
     "output_type": "stream",
     "text": [
      "ssttrriinngg\n",
      "HHeelllloo  WWoorrlldd!!\n",
      "11223344!!__  \n"
     ]
    }
   ],
   "source": [
    "def double_char(s):\n",
    "    dch = ''\n",
    "    for i in s:\n",
    "        dch = dch+(i*2)\n",
    "    print(dch)\n",
    "\n",
    "double_char('string')\n",
    "double_char(\"Hello World!\")\n",
    "double_char(\"1234!_ \")"
   ]
  },
  {
   "cell_type": "markdown",
   "id": "394b1ff1",
   "metadata": {},
   "source": [
    "### Question 2:\n",
    "#### Create a function that reverses a boolean value and returns the string \"boolean expected\" if another variable type is given.\n",
    "* Examples\n",
    "* reverse(True) ➞ False\n",
    "* reverse(False) ➞ True\n",
    "* reverse(0) ➞ \"boolean expected\"\n",
    "* reverse(None) ➞ \"boolean expected\""
   ]
  },
  {
   "cell_type": "code",
   "execution_count": 2,
   "id": "b0bb3ee9",
   "metadata": {},
   "outputs": [
    {
     "name": "stdout",
     "output_type": "stream",
     "text": [
      "False\n",
      "True\n",
      "boolean expected\n",
      "boolean expected\n"
     ]
    }
   ],
   "source": [
    "def reverse(b):\n",
    "    if type(b) == bool:\n",
    "        print(not b)\n",
    "    else:\n",
    "        print('boolean expected')\n",
    "\n",
    "reverse(True)\n",
    "reverse(False)\n",
    "reverse(0)\n",
    "reverse(None)"
   ]
  },
  {
   "cell_type": "markdown",
   "id": "7b841394",
   "metadata": {},
   "source": [
    "### Question 3:\n",
    "#### Create a function that returns the thickness (in meters) of a piece of paper after folding it n number of times. The paper starts off with a thickness of 0.5mm.\n",
    "* Examples\n",
    "* num_layers(1) ➞ \"0.001m\"\n",
    "* num_layers(4) ➞ \"0.008m\"\n",
    "* num_layers(21) ➞ \"1048.576m\""
   ]
  },
  {
   "cell_type": "code",
   "execution_count": 3,
   "id": "10d68739",
   "metadata": {},
   "outputs": [
    {
     "name": "stdout",
     "output_type": "stream",
     "text": [
      "0.001\n",
      "0.008\n",
      "1048.576\n"
     ]
    }
   ],
   "source": [
    "def num_layers(n):\n",
    "    t = 0.5\n",
    "    for i in range(n):\n",
    "        t = t + t\n",
    "    m = t/1000\n",
    "    print(m)\n",
    "\n",
    "num_layers(1)\n",
    "num_layers(4)\n",
    "num_layers(21)"
   ]
  },
  {
   "cell_type": "markdown",
   "id": "06c5b4a7",
   "metadata": {},
   "source": [
    "### Question 4:\n",
    "#### Create a function that takes a single string as argument and returns an ordered list containing the indices of all capital letters in the string.\n",
    "* Examples\n",
    "* index_of_caps(\"eDaBiT\") ➞ [1, 3, 5]\n",
    "* index_of_caps(\"eQuINoX\") ➞ [1, 3, 4, 6]\n",
    "* index_of_caps(\"determine\") ➞ []\n",
    "* index_of_caps(\"STRIKE\") ➞ [0, 1, 2, 3, 4, 5]\n",
    "* index_of_caps(\"sUn\") ➞ [1]"
   ]
  },
  {
   "cell_type": "code",
   "execution_count": 4,
   "id": "0a8eb644",
   "metadata": {},
   "outputs": [
    {
     "name": "stdout",
     "output_type": "stream",
     "text": [
      "[1, 3, 5]\n",
      "[1, 3, 4, 6]\n",
      "[]\n",
      "[0, 1, 2, 3, 4, 5]\n",
      "[1]\n"
     ]
    }
   ],
   "source": [
    "def index_of_caps(s):\n",
    "    l=[]\n",
    "    for i in s:\n",
    "        if i.isupper() == True:\n",
    "            l.append(s.index(i))\n",
    "    print(l)\n",
    "\n",
    "index_of_caps(\"eDaBiT\")\n",
    "index_of_caps(\"eQuINoX\")\n",
    "index_of_caps(\"determine\")\n",
    "index_of_caps(\"STRIKE\")\n",
    "index_of_caps(\"sUn\")"
   ]
  },
  {
   "cell_type": "markdown",
   "id": "e4a100c5",
   "metadata": {},
   "source": [
    "### Question 5:\n",
    "#### Using list comprehensions, create a function that finds all even numbers from 1 to the given number.\n",
    "* Examples\n",
    "* find_even_nums(8) ➞ [2, 4, 6, 8]\n",
    "* find_even_nums(4) ➞ [2, 4]\n",
    "* find_even_nums(2) ➞ [2]"
   ]
  },
  {
   "cell_type": "code",
   "execution_count": 5,
   "id": "d4f08956",
   "metadata": {},
   "outputs": [
    {
     "name": "stdout",
     "output_type": "stream",
     "text": [
      "[2, 4, 6, 8]\n",
      "[2, 4]\n",
      "[2]\n"
     ]
    }
   ],
   "source": [
    "def find_even_nums(n):\n",
    "    l = [x for x in range(1,n+1) if x%2 == 0]\n",
    "    print(l)\n",
    "\n",
    "find_even_nums(8)\n",
    "find_even_nums(4)\n",
    "find_even_nums(2)"
   ]
  }
 ],
 "metadata": {
  "kernelspec": {
   "display_name": "Python 3 (ipykernel)",
   "language": "python",
   "name": "python3"
  },
  "language_info": {
   "codemirror_mode": {
    "name": "ipython",
    "version": 3
   },
   "file_extension": ".py",
   "mimetype": "text/x-python",
   "name": "python",
   "nbconvert_exporter": "python",
   "pygments_lexer": "ipython3",
   "version": "3.10.4"
  }
 },
 "nbformat": 4,
 "nbformat_minor": 5
}
