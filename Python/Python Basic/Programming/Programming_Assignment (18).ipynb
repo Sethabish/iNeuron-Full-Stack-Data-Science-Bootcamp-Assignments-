{
 "cells": [
  {
   "cell_type": "markdown",
   "id": "48d29621",
   "metadata": {},
   "source": [
    "### Question 1\n",
    "#### Create a function that takes a list of non-negative integers and strings and return a new list without the strings.\n",
    "* Examples\n",
    "* filter_list([1, 2, \"a\", \"b\"]) ➞ [1, 2]\n",
    "* filter_list([1, \"a\", \"b\", 0, 15]) ➞ [1, 0, 15]\n",
    "* filter_list([1, 2, \"aasf\", \"1\", \"123\", 123]) ➞ [1, 2, 123]"
   ]
  },
  {
   "cell_type": "code",
   "execution_count": 1,
   "id": "9ff90f36",
   "metadata": {},
   "outputs": [
    {
     "name": "stdout",
     "output_type": "stream",
     "text": [
      "[1, 2]\n",
      "[1, 0, 15]\n",
      "[1, 2, 123]\n"
     ]
    }
   ],
   "source": [
    "def filter_list(l):\n",
    "    num=[]\n",
    "    for i in l:\n",
    "        if type(i) is int:\n",
    "            num.append(i)\n",
    "    print(num)\n",
    "\n",
    "filter_list([1, 2, \"a\", \"b\"])\n",
    "filter_list([1, \"a\", \"b\", 0, 15])\n",
    "filter_list([1, 2, \"aasf\", \"1\", \"123\", 123])"
   ]
  },
  {
   "cell_type": "markdown",
   "id": "6894df46",
   "metadata": {},
   "source": [
    "### Question 2\n",
    "#### The \"Reverser\" takes a string as input and returns that string in reverse order, with the opposite case.\n",
    "* Examples\n",
    "* reverse(\"Hello World\") ➞ \"DLROw OLLEh\"\n",
    "* reverse(\"ReVeRsE\") ➞ \"eSrEvEr\"\n",
    "* reverse(\"Radar\") ➞ \"RADAr\""
   ]
  },
  {
   "cell_type": "code",
   "execution_count": 2,
   "id": "f9deeafe",
   "metadata": {},
   "outputs": [
    {
     "name": "stdout",
     "output_type": "stream",
     "text": [
      "DLROw OLLEh\n",
      "eSrEvEr\n",
      "RADAr\n"
     ]
    }
   ],
   "source": [
    "def reverse(s):\n",
    "    rs = s.swapcase()\n",
    "    print(rs[::-1])\n",
    "\n",
    "reverse(\"Hello World\")\n",
    "reverse(\"ReVeRsE\")\n",
    "reverse(\"Radar\")"
   ]
  },
  {
   "cell_type": "markdown",
   "id": "5b63184d",
   "metadata": {},
   "source": [
    "### Question 3\n",
    "* You can assign variables from lists like this:\n",
    "* lst = [1, 2, 3, 4, 5, 6]\n",
    "* first = lst[0]\n",
    "* middle = lst[1:-1]\n",
    "* last = lst[-1]\n",
    "\n",
    "* print(first) ➞ outputs 1\n",
    "* print(middle) ➞ outputs [2, 3, 4, 5]\n",
    "* print(last) ➞ outputs 6\n",
    "* With Python 3, you can assign variables from lists in a much more succinct way. Create variables first, middle and last from the given list using destructuring assignment (check the Resources tab for some examples), where: \n",
    "* first  ➞ 1\n",
    "* middle ➞ [2, 3, 4, 5]\n",
    "* last ➞ 6\n",
    "* Your task is to unpack the list writeyourcodehere into three variables, being first, middle, and last, with middle being everything in between the first and last element. Then print all three variables."
   ]
  },
  {
   "cell_type": "code",
   "execution_count": 3,
   "id": "ec06c7d9",
   "metadata": {},
   "outputs": [
    {
     "name": "stdout",
     "output_type": "stream",
     "text": [
      "first  = 1\n",
      "middle = [2, 3, 4, 5]\n",
      "last = 6\n"
     ]
    }
   ],
   "source": [
    "first, *middle, last = [1,2,3,4,5,6]\n",
    "print(f'first  = {first}')\n",
    "print(f'middle = {middle}')\n",
    "print(f'last = {last}')"
   ]
  },
  {
   "cell_type": "markdown",
   "id": "366df487",
   "metadata": {},
   "source": [
    "### Question 4\n",
    "#### Write a function that calculates the factorial of a number recursively.\n",
    "* Examples\n",
    "* factorial(5) ➞ 120\n",
    "* factorial(3) ➞ 6\n",
    "* factorial(1) ➞ 1\n",
    "* factorial(0) ➞ 1"
   ]
  },
  {
   "cell_type": "code",
   "execution_count": 4,
   "id": "7130ba80",
   "metadata": {},
   "outputs": [
    {
     "name": "stdout",
     "output_type": "stream",
     "text": [
      "120\n",
      "6\n",
      "1\n",
      "1\n"
     ]
    }
   ],
   "source": [
    "def factorial(n):\n",
    "    if n == 0:\n",
    "        return 1\n",
    "    return n * factorial(n - 1)\n",
    "\n",
    "print(factorial(5))\n",
    "print(factorial(3))\n",
    "print(factorial(1))\n",
    "print(factorial(0))"
   ]
  },
  {
   "cell_type": "markdown",
   "id": "eff64de0",
   "metadata": {},
   "source": [
    "### Question 5\n",
    "#### Write a function that moves all elements of one type to the end of the list.\n",
    "* Examples\n",
    "* move_to_end([1, 3, 2, 4, 4, 1], 1) ➞ [3, 2, 4, 4, 1, 1] (move all the 1s to the end of the array.)\n",
    "* move_to_end([7, 8, 9, 1, 2, 3, 4], 9) ➞ [7, 8, 1, 2, 3, 4, 9]\n",
    "* move_to_end([\"a\", \"a\", \"a\", \"b\"], \"a\") ➞ [\"b\", \"a\", \"a\", \"a\"]"
   ]
  },
  {
   "cell_type": "code",
   "execution_count": 5,
   "id": "c6a56cc9",
   "metadata": {},
   "outputs": [
    {
     "name": "stdout",
     "output_type": "stream",
     "text": [
      "[3, 2, 4, 4, 1, 1]\n",
      "[7, 8, 1, 2, 3, 4, 9]\n",
      "['b', 'a', 'a', 'a']\n"
     ]
    }
   ],
   "source": [
    "def move_to_end(a,b):\n",
    "    l1,l2=[],[]\n",
    "    for i in a:\n",
    "        if i != b:\n",
    "            l1.append(i)\n",
    "        else:\n",
    "            l2.append(i)\n",
    "    print(l1+l2)\n",
    "\n",
    "move_to_end([1, 3, 2, 4, 4, 1], 1)\n",
    "move_to_end([7, 8, 9, 1, 2, 3, 4], 9)\n",
    "move_to_end([\"a\", \"a\", \"a\", \"b\"], \"a\")"
   ]
  }
 ],
 "metadata": {
  "kernelspec": {
   "display_name": "Python 3 (ipykernel)",
   "language": "python",
   "name": "python3"
  },
  "language_info": {
   "codemirror_mode": {
    "name": "ipython",
    "version": 3
   },
   "file_extension": ".py",
   "mimetype": "text/x-python",
   "name": "python",
   "nbconvert_exporter": "python",
   "pygments_lexer": "ipython3",
   "version": "3.10.4"
  }
 },
 "nbformat": 4,
 "nbformat_minor": 5
}
