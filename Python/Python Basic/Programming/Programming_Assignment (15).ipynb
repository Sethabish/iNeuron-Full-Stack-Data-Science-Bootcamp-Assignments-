{
 "cells": [
  {
   "cell_type": "markdown",
   "id": "268e1b0d",
   "metadata": {},
   "source": [
    "### Question 1:\n",
    "#### Please write a program using generator to print the numbers which can be divisible by 5 and 7 between 0 and n in comma separated form while n is input by console.\n",
    "* Example: If the following n is given as input to the program: 100\n",
    "* Then, the output of the program should be: 0,35,70"
   ]
  },
  {
   "cell_type": "code",
   "execution_count": 1,
   "id": "8fa5a6a1",
   "metadata": {},
   "outputs": [
    {
     "name": "stdout",
     "output_type": "stream",
     "text": [
      "Enter range: 100\n",
      "0,35,70,"
     ]
    }
   ],
   "source": [
    "def div_5_7(n):\n",
    "    for i in range(n):\n",
    "        if i % 5 == 0 and i % 7 == 0:\n",
    "            yield i\n",
    "\n",
    "n = int(input('Enter range: '))\n",
    "for j in div_5_7(n):\n",
    "    print(j,end=',')"
   ]
  },
  {
   "cell_type": "markdown",
   "id": "79421f1a",
   "metadata": {},
   "source": [
    "### Question 2:\n",
    "#### Please write a program using generator to print the even numbers between 0 and n in comma separated form while n is input by console.\n",
    "* Example: If the following n is given as input to the program: 10\n",
    "* Then, the output of the program should be: 0,2,4,6,8,10"
   ]
  },
  {
   "cell_type": "code",
   "execution_count": 2,
   "id": "184ff2c3",
   "metadata": {},
   "outputs": [
    {
     "name": "stdout",
     "output_type": "stream",
     "text": [
      "Enter range: 10\n",
      "0,2,4,6,8,10,"
     ]
    }
   ],
   "source": [
    "def even(n):\n",
    "    for i in range(n+1):\n",
    "        if i % 2 == 0:\n",
    "            yield i\n",
    "\n",
    "n = int(input('Enter range: '))\n",
    "for j in even(n):\n",
    "    print(j,end=',')"
   ]
  },
  {
   "cell_type": "markdown",
   "id": "84b76502",
   "metadata": {},
   "source": [
    "### Question 3:\n",
    "#### The Fibonacci Sequence is computed based on the following formula:\n",
    "* f(n)=0 if n=0\n",
    "* f(n)=1 if n=1\n",
    "* f(n)=f(n-1)+f(n-2) if n>1\n",
    "* Please write a program using list comprehension to print the Fibonacci Sequence in comma separated form with a given n input by console.\n",
    "* Example: If the following n is given as input to the program: 7\n",
    "* Then, the output of the program should be: 0,1,1,2,3,5,8,13"
   ]
  },
  {
   "cell_type": "code",
   "execution_count": 4,
   "id": "4e105381",
   "metadata": {},
   "outputs": [
    {
     "name": "stdout",
     "output_type": "stream",
     "text": [
      "Enter range: 7\n",
      "[0, 1, 1, 2, 3, 5, 8, 13]\n"
     ]
    }
   ],
   "source": [
    "def Fibonacci(n):\n",
    "    if n == 0:\n",
    "        return 0\n",
    "    elif n == 1:\n",
    "        return 1\n",
    "    else:\n",
    "        return Fibonacci(n - 1) + Fibonacci(n - 2)\n",
    "\n",
    "n = int(input('Enter range: '))\n",
    "print([Fibonacci(n) for n in range(n+1)])"
   ]
  },
  {
   "cell_type": "markdown",
   "id": "727af399",
   "metadata": {},
   "source": [
    "### Question 4:\n",
    "#### Assuming that we have some email addresses in the \"username@companyname.com\" format, please write program to print the user name of a given email address. Both user names and company names are composed of letters only.\n",
    "* Example: If the following email address is given as input to the program: john@google.com\n",
    "* Then, the output of the program should be: john"
   ]
  },
  {
   "cell_type": "code",
   "execution_count": 5,
   "id": "105717c0",
   "metadata": {},
   "outputs": [
    {
     "name": "stdout",
     "output_type": "stream",
     "text": [
      "Enter email: john@google.com\n",
      "Username: john"
     ]
    }
   ],
   "source": [
    "email = input('Enter email: ')\n",
    "print('Username: ',end='')\n",
    "for i in email:\n",
    "    if i!='@':\n",
    "        print(i,end='')\n",
    "    else:\n",
    "        break"
   ]
  },
  {
   "cell_type": "markdown",
   "id": "9e17bd61",
   "metadata": {},
   "source": [
    "### Question 5:\n",
    "#### Define a class named Shape and its subclass Square. The Square class has an init function which takes a length as argument. Both classes have a area function which can print the area of the shape where Shape's area is 0 by default."
   ]
  },
  {
   "cell_type": "code",
   "execution_count": 6,
   "id": "d605faa5",
   "metadata": {},
   "outputs": [
    {
     "name": "stdout",
     "output_type": "stream",
     "text": [
      "Enter length: 10\n",
      "Area:  100\n"
     ]
    }
   ],
   "source": [
    "class Shape:\n",
    "    def area(self):\n",
    "        return 0\n",
    "\n",
    "class Square(Shape):\n",
    "    def __init__(self, length):\n",
    "        self.length = length\n",
    "    def area(self):\n",
    "        return self.length*self.length\n",
    "\n",
    "l = int(input('Enter length: '))\n",
    "square = Square(l)\n",
    "print('Area: ',square.area())"
   ]
  }
 ],
 "metadata": {
  "kernelspec": {
   "display_name": "Python 3 (ipykernel)",
   "language": "python",
   "name": "python3"
  },
  "language_info": {
   "codemirror_mode": {
    "name": "ipython",
    "version": 3
   },
   "file_extension": ".py",
   "mimetype": "text/x-python",
   "name": "python",
   "nbconvert_exporter": "python",
   "pygments_lexer": "ipython3",
   "version": "3.10.4"
  }
 },
 "nbformat": 4,
 "nbformat_minor": 5
}
