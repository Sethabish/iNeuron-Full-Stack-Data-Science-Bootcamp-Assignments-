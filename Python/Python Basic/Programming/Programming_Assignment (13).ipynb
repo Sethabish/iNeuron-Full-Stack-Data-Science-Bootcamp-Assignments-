{
 "cells": [
  {
   "cell_type": "markdown",
   "id": "05e87ed5",
   "metadata": {},
   "source": [
    "### Question 1:\n",
    "#### Write a program that calculates and prints the value according to the given formula:\n",
    "* Q = Square root of [(2 * C * D)/H]\n",
    "* Following are the fixed values of C and H: \n",
    "C is 50. H is 30.\n",
    "* D is the variable whose values should be input to your program in a comma-separated sequence.\n",
    "* Example: Let us assume the following comma separated input sequence is given to the program: 100,150,180. The output of the program should be: 18,22,24"
   ]
  },
  {
   "cell_type": "code",
   "execution_count": 1,
   "id": "89fdc1d4",
   "metadata": {},
   "outputs": [
    {
     "name": "stdout",
     "output_type": "stream",
     "text": [
      "Enter values of D: 100,150,180\n",
      "18\n",
      "22\n",
      "24\n"
     ]
    }
   ],
   "source": [
    "import math\n",
    "D = list(map(int, input(\"Enter values of D: \").split(',')))\n",
    "C,H = 50,30\n",
    "for i in range(len(D)):\n",
    "    Q = math.sqrt((2 * C * D[i])/H)\n",
    "    print(round(Q))"
   ]
  },
  {
   "cell_type": "markdown",
   "id": "23481e65",
   "metadata": {},
   "source": [
    "### Question 2:\n",
    "#### Write a program which takes 2 digits, X,Y as input and generates a 2-dimensional array. The element value in the i-th row and j-th column of the array should be i*j.\n",
    "* Note: i=0,1,....,X-1; j=0,1,....,Y-1.\n",
    "* Example: Suppose the following inputs are given to the program: 3,5\n",
    "* Then, the output of the program should be: [[0, 0, 0, 0, 0], [0, 1, 2, 3, 4], [0, 2, 4, 6, 8]] "
   ]
  },
  {
   "cell_type": "code",
   "execution_count": 1,
   "id": "935905a0",
   "metadata": {},
   "outputs": [
    {
     "name": "stdout",
     "output_type": "stream",
     "text": [
      "Enter the No of Rows:5\n",
      "Enter the No of Columns:5\n",
      "[[0, 0, 0, 0, 0], [0, 1, 2, 3, 4], [0, 2, 4, 6, 8], [0, 3, 6, 9, 12], [0, 4, 8, 12, 16]]\n"
     ]
    }
   ],
   "source": [
    "import array as arr\n",
    "def genarr():\n",
    "    x = int(input('Enter the No of Rows:'))\n",
    "    y = int(input('Enter the No of Columns:')) \n",
    "    z = []\n",
    "    for i in range(x):\n",
    "        z.insert(x,[])\n",
    "        for j in range(y):\n",
    "            z[i].append(i*j)\n",
    "    print(z)\n",
    "genarr()"
   ]
  },
  {
   "cell_type": "markdown",
   "id": "bfad2bd7",
   "metadata": {},
   "source": [
    "### Question 3:\n",
    "#### Write a program that accepts a comma separated sequence of words as input and prints the words in a comma-separated sequence after sorting them alphabetically.\n",
    "* Suppose the following input is supplied to the program: without,hello,bag,world\n",
    "* Then, the output should be: bag,hello,without,world"
   ]
  },
  {
   "cell_type": "code",
   "execution_count": 2,
   "id": "bddd7025",
   "metadata": {},
   "outputs": [
    {
     "name": "stdout",
     "output_type": "stream",
     "text": [
      "Enter strings to be sorted: without,hello,bag,world\n",
      "Sorted Strings: bag,hello,without,world"
     ]
    }
   ],
   "source": [
    "s = list(map(str, input(\"Enter strings to be sorted: \").split(',')))\n",
    "o = sorted(s)\n",
    "print('Sorted Strings:', end=' ')\n",
    "for i in range(len(o)):\n",
    "    print(o[i],end='')\n",
    "    if i == (len(o)-1):\n",
    "        break\n",
    "    print(',',end='')"
   ]
  },
  {
   "cell_type": "markdown",
   "id": "98782610",
   "metadata": {},
   "source": [
    "### Question 4:\n",
    "#### Write a program that accepts a sequence of whitespace separated words as input and prints the words after removing all duplicate words and sorting them alphanumerically.\n",
    "* Suppose the following input is supplied to the program: hello world and practice makes perfect and hello world again\n",
    "* Then, the output should be: again and hello makes perfect practice world"
   ]
  },
  {
   "cell_type": "code",
   "execution_count": 3,
   "id": "e1eef01a",
   "metadata": {},
   "outputs": [
    {
     "name": "stdout",
     "output_type": "stream",
     "text": [
      "Enter strings to be sorted: hello world and practice makes perfect and hello world again\n",
      "Sorted Strings: again and hello makes perfect practice world "
     ]
    }
   ],
   "source": [
    "s = list(map(str, input(\"Enter strings to be sorted: \").split()))\n",
    "o = sorted(set(s))\n",
    "print('Sorted Strings:', end=' ')\n",
    "for i in range(len(o)):\n",
    "    print(o[i],end=' ')"
   ]
  },
  {
   "cell_type": "markdown",
   "id": "c4174d19",
   "metadata": {},
   "source": [
    "### Question 5:\n",
    "#### Write a program that accepts a sentence and calculate the number of letters and digits.\n",
    "* Suppose the following input is supplied to the program: \n",
    "    hello world! 123\n",
    "* Then, the output should be: \n",
    "    LETTERS 10 \n",
    "    DIGITS 3"
   ]
  },
  {
   "cell_type": "code",
   "execution_count": 1,
   "id": "9788ae62",
   "metadata": {},
   "outputs": [
    {
     "name": "stdout",
     "output_type": "stream",
     "text": [
      "input: hello world! 123\n",
      "Output:\n",
      "LETTERS 10\n",
      "DIGITS 3\n"
     ]
    }
   ],
   "source": [
    "s = input('input: ')\n",
    "alpha = 'ABCDEFGHIJKLMNOPQRSTUVWXYZabcdefghijklmnopqrstuvwxyz'\n",
    "num = '0123456789'\n",
    "count1,count2 = 0,0\n",
    "for i in s:\n",
    "    if i in alpha:\n",
    "        count1 = count1+1\n",
    "for j in s:\n",
    "    if j in num:\n",
    "        count2 = count2+1\n",
    "print('Output:')\n",
    "print('LETTERS',count1)\n",
    "print('DIGITS',count2)"
   ]
  },
  {
   "cell_type": "markdown",
   "id": "a5deb43b",
   "metadata": {},
   "source": [
    "### Question 6:\n",
    "#### A website requires the users to input username and password to register. Write a program to check the validity of password input by users.\n",
    "\n",
    "Following are the criteria for checking the password:\n",
    "\n",
    "1. At least 1 letter between [a-z]\n",
    "\n",
    "2. At least 1 number between [0-9]\n",
    "\n",
    "3. At least 1 letter between [A-Z]\n",
    "\n",
    "4. At least 1 character from [$#@]\n",
    "\n",
    "5. Minimum length of transaction password: 6\n",
    "\n",
    "6. Maximum length of transaction password: 12\n",
    "\n",
    "#### Your program should accept a sequence of comma separated passwords and will check them according to the above criteria. Passwords that match the criteria are to be printed, each separated by a comma.\n",
    "Example: \n",
    "* If the following passwords are given as input to the program: ABd1234@1,a F1#,2w3E*,2We3345\n",
    "* Then, the output of the program should be: ABd1234@1\n"
   ]
  },
  {
   "cell_type": "code",
   "execution_count": 4,
   "id": "a8ca328a",
   "metadata": {},
   "outputs": [
    {
     "name": "stdout",
     "output_type": "stream",
     "text": [
      "Enter passwords: ABd1234@1,a F1#,2w3E*,2We3345\n",
      "Valid password: ABd1234@1\n"
     ]
    }
   ],
   "source": [
    "s = list(map(str, input(\"Enter passwords: \").split(',')))\n",
    "cchar = 'ABCDEFGHIJKLMNOPQRSTUVWXYZ'\n",
    "schar = 'abcdefghijklmnopqrstuvwxyz'\n",
    "num = '0123456789'\n",
    "spchar = '$#@'\n",
    "for i in s:\n",
    "    count1,count2,count3,count4 = 0,0,0,0\n",
    "    for j in i:\n",
    "        if j in cchar:\n",
    "            count1 = count1 + 1\n",
    "        if j in schar:\n",
    "            count2 = count2 + 1\n",
    "        if j in num:\n",
    "            count3 = count3 + 1\n",
    "        if j in spchar:\n",
    "            count4 = count4 + 1\n",
    "    if count1 >= 1 and count2 >= 1 and count3 >= 1 and count4 >= 1 and len(i)>=6 and len(i)<=12:\n",
    "        print('Valid password:',i)"
   ]
  }
 ],
 "metadata": {
  "kernelspec": {
   "display_name": "Python 3 (ipykernel)",
   "language": "python",
   "name": "python3"
  },
  "language_info": {
   "codemirror_mode": {
    "name": "ipython",
    "version": 3
   },
   "file_extension": ".py",
   "mimetype": "text/x-python",
   "name": "python",
   "nbconvert_exporter": "python",
   "pygments_lexer": "ipython3",
   "version": "3.10.4"
  }
 },
 "nbformat": 4,
 "nbformat_minor": 5
}
