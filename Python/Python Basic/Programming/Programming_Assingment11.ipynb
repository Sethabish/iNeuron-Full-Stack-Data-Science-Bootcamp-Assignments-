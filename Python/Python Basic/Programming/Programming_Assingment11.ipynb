{
 "cells": [
  {
   "cell_type": "markdown",
   "id": "a854f11b",
   "metadata": {},
   "source": [
    "1) Write a Python program to find words which are greater than given length k?"
   ]
  },
  {
   "cell_type": "code",
   "execution_count": 4,
   "id": "e6bd72cc",
   "metadata": {},
   "outputs": [
    {
     "name": "stdout",
     "output_type": "stream",
     "text": [
      "Enter length: 12\n",
      "Words with length greater than  12\n",
      "general-purpose\n",
      "dynamically-typed\n",
      "garbage-collected.\n",
      "object-oriented\n",
      "comprehensive\n"
     ]
    }
   ],
   "source": [
    "k = int(input(\"Enter length: \"))\n",
    "l1 = \"Python is a high-level, interpreted, general-purpose programming language. Its design philosophy emphasizes code readability with the use of significant indentation. Python is dynamically-typed and garbage-collected. It supports multiple programming paradigms, including structured ( particularly procedural ), object-oriented and functional programming. It is often described as a 'batteries included' language due to its comprehensive standard library\"\n",
    "l2 = l1.split()\n",
    "print('Words with length greater than ',k)\n",
    "for i in l2:\n",
    "    if len(i) > k:\n",
    "        print(i)"
   ]
  },
  {
   "cell_type": "markdown",
   "id": "e203118d",
   "metadata": {},
   "source": [
    "2) Write a Python program for removing i-th character from a string?"
   ]
  },
  {
   "cell_type": "code",
   "execution_count": 5,
   "id": "4a36819c",
   "metadata": {},
   "outputs": [
    {
     "name": "stdout",
     "output_type": "stream",
     "text": [
      "Enter a string: srinivas\n",
      "Enter index of the character to be removed: 3\n",
      "Output:  sriivas\n"
     ]
    }
   ],
   "source": [
    "s = input('Enter a string: ')\n",
    "n = int(input('Enter index of the character to be removed: '))\n",
    "print('Output: ',s.replace(s[n],''))"
   ]
  },
  {
   "cell_type": "markdown",
   "id": "6894d76d",
   "metadata": {},
   "source": [
    "3) Write a Python program to split and join a string?"
   ]
  },
  {
   "cell_type": "code",
   "execution_count": 6,
   "id": "71f759ba",
   "metadata": {},
   "outputs": [
    {
     "name": "stdout",
     "output_type": "stream",
     "text": [
      "['Hi!', 'How', 'are', 'you?!']\n",
      "Hi! How are you?!\n"
     ]
    }
   ],
   "source": [
    "s = 'Hi! How are you?!'\n",
    "n = s.split()\n",
    "print(n)\n",
    "m = ' '.join(n)\n",
    "print(m)"
   ]
  },
  {
   "cell_type": "markdown",
   "id": "584fc13f",
   "metadata": {},
   "source": [
    "4) Write a Python program to check if a given string is binary string or not?"
   ]
  },
  {
   "cell_type": "code",
   "execution_count": 7,
   "id": "e122666a",
   "metadata": {},
   "outputs": [
    {
     "name": "stdout",
     "output_type": "stream",
     "text": [
      "Enter a string: 10110111001\n",
      "Is a binary string\n"
     ]
    }
   ],
   "source": [
    "n = input('Enter a string: ')\n",
    "b = '01'\n",
    "for i in n:\n",
    "    if i not in b:\n",
    "        print('Not a binary string')\n",
    "        break\n",
    "else:\n",
    "    print('Is a binary string')"
   ]
  },
  {
   "cell_type": "markdown",
   "id": "033bc08f",
   "metadata": {},
   "source": [
    "5) Write a Python program to find uncommon words from two Strings?"
   ]
  },
  {
   "cell_type": "code",
   "execution_count": 9,
   "id": "a6c046e1",
   "metadata": {},
   "outputs": [
    {
     "name": "stdout",
     "output_type": "stream",
     "text": [
      "how\n",
      "are\n",
      "i\n",
      "am\n",
      "fine\n",
      "what\n",
      "about\n"
     ]
    }
   ],
   "source": [
    "s1 = 'Hi how are you'\n",
    "s2 = 'Hi i am fine what about you'\n",
    "l1 = s1.split()\n",
    "l2 = s2.split()\n",
    "for i in l1:\n",
    "    if i not in l2:\n",
    "        print(i)\n",
    "for j in l2:\n",
    "    if j not in l1:\n",
    "        print(j)"
   ]
  },
  {
   "cell_type": "markdown",
   "id": "b1d25113",
   "metadata": {},
   "source": [
    "6) Write a Python program to find all duplicate characters in string?"
   ]
  },
  {
   "cell_type": "code",
   "execution_count": 15,
   "id": "5dfdb26b",
   "metadata": {},
   "outputs": [
    {
     "name": "stdout",
     "output_type": "stream",
     "text": [
      "{'e', 'g', 'd', 'b'}\n"
     ]
    }
   ],
   "source": [
    "s = 'abcdbdefgheg'\n",
    "l = []\n",
    "for i in s:\n",
    "    n = s.count(i)\n",
    "    if n > 1:\n",
    "        l.append(i)\n",
    "print(set(l))"
   ]
  },
  {
   "cell_type": "markdown",
   "id": "96513818",
   "metadata": {},
   "source": [
    "7) Write a Python Program to check if a string contains any special character?"
   ]
  },
  {
   "cell_type": "code",
   "execution_count": 16,
   "id": "bea54add",
   "metadata": {},
   "outputs": [
    {
     "name": "stdout",
     "output_type": "stream",
     "text": [
      "Enter a string: #ineuron\n",
      "The string has special characters\n"
     ]
    }
   ],
   "source": [
    "s = input('Enter a string: ')\n",
    "p = \"[@_!#$%^&*()<>?/|}{~:]\"\n",
    "for i in s:\n",
    "    if i in p:\n",
    "        print('The string has special characters')\n",
    "        break\n",
    "else:\n",
    "    print('The string does not contain special characters')"
   ]
  }
 ],
 "metadata": {
  "kernelspec": {
   "display_name": "Python 3 (ipykernel)",
   "language": "python",
   "name": "python3"
  },
  "language_info": {
   "codemirror_mode": {
    "name": "ipython",
    "version": 3
   },
   "file_extension": ".py",
   "mimetype": "text/x-python",
   "name": "python",
   "nbconvert_exporter": "python",
   "pygments_lexer": "ipython3",
   "version": "3.10.4"
  }
 },
 "nbformat": 4,
 "nbformat_minor": 5
}
