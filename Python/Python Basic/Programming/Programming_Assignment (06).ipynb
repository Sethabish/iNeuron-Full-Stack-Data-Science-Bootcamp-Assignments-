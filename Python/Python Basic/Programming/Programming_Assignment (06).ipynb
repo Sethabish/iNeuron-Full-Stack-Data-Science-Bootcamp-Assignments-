{
 "cells": [
  {
   "cell_type": "markdown",
   "id": "1675ca7b",
   "metadata": {},
   "source": [
    "1) Write a Python Program to Display Fibonacci Sequence Using Recursion?"
   ]
  },
  {
   "cell_type": "code",
   "execution_count": 1,
   "id": "690d150c",
   "metadata": {},
   "outputs": [
    {
     "name": "stdout",
     "output_type": "stream",
     "text": [
      "Enter a limit: 10\n",
      "Fibonacci series:\n",
      "0\n",
      "1\n",
      "1\n",
      "2\n",
      "3\n",
      "5\n",
      "8\n",
      "13\n",
      "21\n",
      "34\n"
     ]
    }
   ],
   "source": [
    "def fibonacci(n):\n",
    "    if n <= 1:\n",
    "        return n\n",
    "    else:\n",
    "        return(fibonacci(n-1) + fibonacci(n-2))\n",
    "n=int(input('Enter a limit: '))\n",
    "print(\"Fibonacci series:\")\n",
    "for i in range(n):\n",
    "    print(fibonacci(i))"
   ]
  },
  {
   "cell_type": "markdown",
   "id": "8c094ce3",
   "metadata": {},
   "source": [
    "2) Write a Python Program to Find Factorial of Number Using Recursion?"
   ]
  },
  {
   "cell_type": "code",
   "execution_count": 3,
   "id": "7660a7a8",
   "metadata": {},
   "outputs": [
    {
     "name": "stdout",
     "output_type": "stream",
     "text": [
      "Enter a number: 10\n",
      "Factorial of 10 is: 3628800\n"
     ]
    }
   ],
   "source": [
    "def factorial(n):\n",
    "    if n==1:\n",
    "        return 1\n",
    "    else:\n",
    "        return(n * factorial(n-1))\n",
    "n=int(input('Enter a number: '))\n",
    "print('Factorial of', n, 'is:', factorial(n))"
   ]
  },
  {
   "cell_type": "markdown",
   "id": "d785560a",
   "metadata": {},
   "source": [
    "3) Write a Python Program to calculate your Body Mass Index?"
   ]
  },
  {
   "cell_type": "code",
   "execution_count": 4,
   "id": "f3ee33cb",
   "metadata": {},
   "outputs": [
    {
     "name": "stdout",
     "output_type": "stream",
     "text": [
      "Enter weight in kg: 83\n",
      "Enter height in cms: 181\n",
      "Your Body Mass Index is: 25.34\n"
     ]
    }
   ],
   "source": [
    "w = float(input('Enter weight in kg: '))\n",
    "h = float(input('Enter height in cms: '))\n",
    "mts = h/100\n",
    "bmi = w / mts**2\n",
    "print('Your Body Mass Index is:', round(bmi,2))"
   ]
  },
  {
   "cell_type": "markdown",
   "id": "4566f8d1",
   "metadata": {},
   "source": [
    "4) Write a Python Program to calculate the natural logarithm of any number?"
   ]
  },
  {
   "cell_type": "code",
   "execution_count": 5,
   "id": "839fbc72",
   "metadata": {},
   "outputs": [
    {
     "name": "stdout",
     "output_type": "stream",
     "text": [
      "Enter a number: 22\n",
      "Natural log of 22 is: 3.091042453358316\n"
     ]
    }
   ],
   "source": [
    "import math\n",
    "n = int(input('Enter a number: '))\n",
    "print('Natural log of', n, 'is:', math.log(n))"
   ]
  },
  {
   "cell_type": "markdown",
   "id": "1e1a5a41",
   "metadata": {},
   "source": [
    "5) Write a Python Program for cube sum of first n natural numbers?"
   ]
  },
  {
   "cell_type": "code",
   "execution_count": 6,
   "id": "00204e19",
   "metadata": {},
   "outputs": [
    {
     "name": "stdout",
     "output_type": "stream",
     "text": [
      "Enter nth number of natural numbers: 10\n",
      "Sum of Cubes of first 10 Natural Numbers : 3025\n"
     ]
    }
   ],
   "source": [
    "n = int(input('Enter nth number of natural numbers: '))\n",
    "l = []\n",
    "for i in range(n):\n",
    "    m = (i+1)**3\n",
    "    l.append(m)\n",
    "print('Sum of Cubes of first', n, 'Natural Numbers :', sum(l))"
   ]
  }
 ],
 "metadata": {
  "kernelspec": {
   "display_name": "Python 3 (ipykernel)",
   "language": "python",
   "name": "python3"
  },
  "language_info": {
   "codemirror_mode": {
    "name": "ipython",
    "version": 3
   },
   "file_extension": ".py",
   "mimetype": "text/x-python",
   "name": "python",
   "nbconvert_exporter": "python",
   "pygments_lexer": "ipython3",
   "version": "3.10.4"
  }
 },
 "nbformat": 4,
 "nbformat_minor": 5
}
