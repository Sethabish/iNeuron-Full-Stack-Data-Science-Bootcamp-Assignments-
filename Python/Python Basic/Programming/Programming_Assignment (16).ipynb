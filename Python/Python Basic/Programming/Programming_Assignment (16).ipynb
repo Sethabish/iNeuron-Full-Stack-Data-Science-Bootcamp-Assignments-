{
 "cells": [
  {
   "cell_type": "markdown",
   "id": "b8033ea7",
   "metadata": {},
   "source": [
    "### Question 1:\n",
    "#### Write a function that stutters a word as if someone is struggling to read it. The first two letters are repeated twice with an ellipsis ... and space after each, and then the word is pronounced with a question mark ?.\n",
    "* Examples\n",
    "* stutter(\"incredible\") ➞ \"in... in... incredible?\"\n",
    "\n",
    "* stutter(\"enthusiastic\") ➞ \"en... en... enthusiastic?\"\n",
    "\n",
    "* stutter(\"outstanding\") ➞ \"ou... ou... outstanding?\""
   ]
  },
  {
   "cell_type": "code",
   "execution_count": 1,
   "id": "dd1b4efa",
   "metadata": {},
   "outputs": [
    {
     "name": "stdout",
     "output_type": "stream",
     "text": [
      "in... in... incredible?\n",
      "en... en... enthusiastic?\n",
      "ou... ou... outstanding?\n"
     ]
    }
   ],
   "source": [
    "def stutter(s):\n",
    "    i=0\n",
    "    while i<2:\n",
    "        print(s[0],end='')\n",
    "        print(s[1],end='')\n",
    "        print('... ',end='')\n",
    "        i = i+1\n",
    "    print(s,end='')\n",
    "    print('?')\n",
    "\n",
    "stutter(\"incredible\")\n",
    "stutter(\"enthusiastic\")\n",
    "stutter(\"outstanding\")"
   ]
  },
  {
   "cell_type": "markdown",
   "id": "6fc50ca8",
   "metadata": {},
   "source": [
    "### Question 2:\n",
    "#### Create a function that takes an angle in radians and returns the corresponding angle in degrees rounded to one decimal place.\n",
    "* Examples\n",
    "* radians_to_degrees(1) ➞ 57.3\n",
    "\n",
    "* radians_to_degrees(20) ➞ 1145.9\n",
    "\n",
    "* radians_to_degrees(50) ➞ 2864.8"
   ]
  },
  {
   "cell_type": "code",
   "execution_count": 2,
   "id": "cc3775a6",
   "metadata": {},
   "outputs": [
    {
     "name": "stdout",
     "output_type": "stream",
     "text": [
      "57.3\n",
      "1145.9\n",
      "2864.8\n"
     ]
    }
   ],
   "source": [
    "def radians_to_degrees(r):\n",
    "    d = round(r * (180/3.14159),1)\n",
    "    print(d)\n",
    "\n",
    "radians_to_degrees(1)\n",
    "radians_to_degrees(20)\n",
    "radians_to_degrees(50)"
   ]
  },
  {
   "cell_type": "markdown",
   "id": "57c2e5d6",
   "metadata": {},
   "source": [
    "### Question 3:\n",
    "#### In this challenge, establish if a given integer num is a Curzon number. If 1 plus 2 elevated to num is exactly divisible by 1 plus 2 multiplied by num, then num is a Curzon number.\n",
    "* Given a non-negative integer num, implement a function that returns True if num is a Curzon number, or False otherwise.\n",
    "* Examples\n",
    "* is_curzon(5) ➞ True\n",
    "* is_curzon(10) ➞ False\n",
    "* is_curzon(14) ➞ True"
   ]
  },
  {
   "cell_type": "code",
   "execution_count": 3,
   "id": "bf7576e1",
   "metadata": {},
   "outputs": [
    {
     "name": "stdout",
     "output_type": "stream",
     "text": [
      "True\n",
      "False\n",
      "True\n"
     ]
    }
   ],
   "source": [
    "def is_curzon(c):\n",
    "    c1 = (2**c)+1\n",
    "    c2 = (2*c)+1\n",
    "    if c1%c2 == 0:\n",
    "        print(True)\n",
    "    else:\n",
    "        print(False)\n",
    "\n",
    "is_curzon(5)\n",
    "is_curzon(10)\n",
    "is_curzon(14)"
   ]
  },
  {
   "cell_type": "markdown",
   "id": "e9f6f9c1",
   "metadata": {},
   "source": [
    "### Question 4:\n",
    "#### Given the side length x find the area of a hexagon.\n",
    "* Examples\n",
    "* area_of_hexagon(1) ➞ 2.6\n",
    "\n",
    "* area_of_hexagon(2) ➞ 10.4\n",
    "\n",
    "* area_of_hexagon(3) ➞ 23.4"
   ]
  },
  {
   "cell_type": "code",
   "execution_count": 4,
   "id": "41bc3ed9",
   "metadata": {},
   "outputs": [
    {
     "name": "stdout",
     "output_type": "stream",
     "text": [
      "2.6\n",
      "10.4\n",
      "23.4\n"
     ]
    }
   ],
   "source": [
    "import math\n",
    "def area_of_hexagon(s):\n",
    "    a = (3*math.sqrt(3)*s**2)/2\n",
    "    print(round(a,1))\n",
    "\n",
    "area_of_hexagon(1)\n",
    "area_of_hexagon(2)\n",
    "area_of_hexagon(3)"
   ]
  },
  {
   "cell_type": "markdown",
   "id": "cf444075",
   "metadata": {},
   "source": [
    "### Question 5: \n",
    "#### Create a function that returns a base-2 (binary) representation of a base-10 (decimal) string number.\n",
    "* Examples\n",
    "* binary(1) ➞ \"1\"\n",
    "* binary(5) ➞ \"101\"\n",
    "* binary(10) ➞ \"1010\""
   ]
  },
  {
   "cell_type": "code",
   "execution_count": 5,
   "id": "565b2193",
   "metadata": {},
   "outputs": [
    {
     "name": "stdout",
     "output_type": "stream",
     "text": [
      "1\n",
      "101\n",
      "1010\n"
     ]
    }
   ],
   "source": [
    "def binary(n):\n",
    "    s=''\n",
    "    while True:\n",
    "        if n == 0 or n == 1:\n",
    "            print(n)\n",
    "            break\n",
    "        else:\n",
    "            m = n//2\n",
    "            o = str(n%2)\n",
    "            s = s+o\n",
    "            n=m\n",
    "            if m==1:\n",
    "                s=s+str(m)\n",
    "                print(s[::-1])\n",
    "                break\n",
    "                \n",
    "binary(1)\n",
    "binary(5)\n",
    "binary(10)"
   ]
  }
 ],
 "metadata": {
  "kernelspec": {
   "display_name": "Python 3 (ipykernel)",
   "language": "python",
   "name": "python3"
  },
  "language_info": {
   "codemirror_mode": {
    "name": "ipython",
    "version": 3
   },
   "file_extension": ".py",
   "mimetype": "text/x-python",
   "name": "python",
   "nbconvert_exporter": "python",
   "pygments_lexer": "ipython3",
   "version": "3.10.4"
  }
 },
 "nbformat": 4,
 "nbformat_minor": 5
}
