{
 "cells": [
  {
   "cell_type": "markdown",
   "id": "ea81c023",
   "metadata": {},
   "source": [
    "1) Write a Python Program to Add Two Matrices?"
   ]
  },
  {
   "cell_type": "code",
   "execution_count": 1,
   "id": "5d81caa0",
   "metadata": {},
   "outputs": [
    {
     "name": "stdout",
     "output_type": "stream",
     "text": [
      "Sum of matrices l1 and l2:  [[3, 3, 3], [3, 3, 3], [3, 3, 3]]\n"
     ]
    }
   ],
   "source": [
    "l1 = [[1,2,1],[2,1,2],[1,2,1]]\n",
    "l2 = [[2,1,2],[1,2,1],[2,1,2]]\n",
    "row,col=3,3\n",
    "result = []\n",
    "for i in range(row):\n",
    "    m = []\n",
    "    for j in range(col):\n",
    "        k = l1[i][j] + l2[i][j]\n",
    "        m.append(k)\n",
    "    result.append(m)\n",
    "print('Sum of matrices l1 and l2: ',result)"
   ]
  },
  {
   "cell_type": "markdown",
   "id": "73bd6e8b",
   "metadata": {},
   "source": [
    "2) Write a Python Program to Multiply Two Matrices?"
   ]
  },
  {
   "cell_type": "code",
   "execution_count": 2,
   "id": "bd01182d",
   "metadata": {},
   "outputs": [
    {
     "name": "stdout",
     "output_type": "stream",
     "text": [
      "Product of matrices l1 and l2:  [[30, 24, 18], [84, 69, 54], [138, 114, 90]]\n"
     ]
    }
   ],
   "source": [
    "l1 = [[1,2,3],[4,5,6],[7,8,9]]\n",
    "l2 = [[9,8,7],[6,5,4],[3,2,1]]\n",
    "r1,c1,r2,c2=3,3,3,3\n",
    "result = []\n",
    "for i in range(r1):\n",
    "    a = []\n",
    "    for j in range(c2):\n",
    "        o = 0\n",
    "        for k in range(r2):\n",
    "            o = o + (l1[i][k] * l2[k][j])\n",
    "        a.append(o)\n",
    "    result.append(a)\n",
    "print('Product of matrices l1 and l2: ',result)"
   ]
  },
  {
   "cell_type": "markdown",
   "id": "b5a3deef",
   "metadata": {},
   "source": [
    "3) Write a Python Program to Transpose a Matrix?"
   ]
  },
  {
   "cell_type": "code",
   "execution_count": 3,
   "id": "204812f2",
   "metadata": {},
   "outputs": [
    {
     "name": "stdout",
     "output_type": "stream",
     "text": [
      "Transpose of matrix l:  [[1, 4, 7], [2, 5, 8], [3, 6, 9]]\n"
     ]
    }
   ],
   "source": [
    "l = [[1,2,3],[4,5,6],[7,8,9]]\n",
    "row,col=3,3\n",
    "result=[]\n",
    "for i in range(row):\n",
    "    m = []\n",
    "    for j in range(col):\n",
    "        k = l[j][i]\n",
    "        m.append(k)\n",
    "    result.append(m)\n",
    "print('Transpose of matrix l: ',result)"
   ]
  },
  {
   "cell_type": "markdown",
   "id": "cc6ba710",
   "metadata": {},
   "source": [
    "4) Write a Python Program to Sort Words in Alphabetic Order?"
   ]
  },
  {
   "cell_type": "code",
   "execution_count": 4,
   "id": "65ea3e36",
   "metadata": {},
   "outputs": [
    {
     "name": "stdout",
     "output_type": "stream",
     "text": [
      "Words sorted in alphabetical order:\n",
      "bootcamp\n",
      "data\n",
      "full\n",
      "ineuron\n",
      "science\n",
      "stack\n"
     ]
    }
   ],
   "source": [
    "a = ' ineuron full stack data science bootcamp'\n",
    "l = a.split()\n",
    "l.sort()\n",
    "print('Words sorted in alphabetical order:')\n",
    "for i in l:\n",
    "    print(i)"
   ]
  },
  {
   "cell_type": "markdown",
   "id": "efc1c5db",
   "metadata": {},
   "source": [
    "5) Write a Python Program to Remove Punctuation from a String?"
   ]
  },
  {
   "cell_type": "code",
   "execution_count": 5,
   "id": "1b19073d",
   "metadata": {},
   "outputs": [
    {
     "name": "stdout",
     "output_type": "stream",
     "text": [
      "He said Hi How are you How can i help you\n"
     ]
    }
   ],
   "source": [
    "a = 'He said \"Hi! How are you?! How can i help you?!\"'\n",
    "p = '.,?!;:\"\"'\n",
    "n=\"\"\n",
    "for i in a:\n",
    "    if i not in p:\n",
    "        n=n+i\n",
    "print(n)"
   ]
  }
 ],
 "metadata": {
  "kernelspec": {
   "display_name": "Python 3 (ipykernel)",
   "language": "python",
   "name": "python3"
  },
  "language_info": {
   "codemirror_mode": {
    "name": "ipython",
    "version": 3
   },
   "file_extension": ".py",
   "mimetype": "text/x-python",
   "name": "python",
   "nbconvert_exporter": "python",
   "pygments_lexer": "ipython3",
   "version": "3.10.4"
  }
 },
 "nbformat": 4,
 "nbformat_minor": 5
}
