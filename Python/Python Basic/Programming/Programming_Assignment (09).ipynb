{
 "cells": [
  {
   "cell_type": "markdown",
   "id": "14f06489",
   "metadata": {},
   "source": [
    "1) Write a Python program to check if the given number is a Disarium Number?"
   ]
  },
  {
   "cell_type": "code",
   "execution_count": 1,
   "id": "8b3f7cb6",
   "metadata": {},
   "outputs": [
    {
     "name": "stdout",
     "output_type": "stream",
     "text": [
      "Enter a number: 135\n",
      "135 is a disarium number.\n"
     ]
    }
   ],
   "source": [
    "n = input('Enter a number: ')\n",
    "m=0\n",
    "for i in range(len(n)):\n",
    "    m = m + int(n[i])**(i+1)\n",
    "if int(n) == m:\n",
    "    print(n, 'is a disarium number.')\n",
    "else:\n",
    "    print(n, 'is not a disarium number.')"
   ]
  },
  {
   "cell_type": "markdown",
   "id": "3aefb6a5",
   "metadata": {},
   "source": [
    "2) Write a Python program to print all disarium numbers between 1 to 100?"
   ]
  },
  {
   "cell_type": "code",
   "execution_count": 2,
   "id": "db8805b5",
   "metadata": {},
   "outputs": [
    {
     "name": "stdout",
     "output_type": "stream",
     "text": [
      "Disarium numbers between 1 and 100 are: [0, 1, 2, 3, 4, 5, 6, 7, 8, 9, 89]\n"
     ]
    }
   ],
   "source": [
    "l=[]\n",
    "for j in range(100):\n",
    "    o=str(j)\n",
    "    m=0\n",
    "    for i in range(len(o)):\n",
    "        m = m + int(o[i])**(i+1)\n",
    "        if int(o)==m:\n",
    "            l.append(m)\n",
    "print('Disarium numbers between 1 and 100 are:',l)"
   ]
  },
  {
   "cell_type": "markdown",
   "id": "b14dd5d6",
   "metadata": {},
   "source": [
    "3) Write a Python program to check if the given number is Happy Number?"
   ]
  },
  {
   "cell_type": "code",
   "execution_count": 4,
   "id": "e8f4ac5c",
   "metadata": {},
   "outputs": [
    {
     "name": "stdout",
     "output_type": "stream",
     "text": [
      "Enter a number: 32\n",
      "32 is a Happy Number\n"
     ]
    }
   ],
   "source": [
    "def happy_num(n):\n",
    "    l=[]\n",
    "    m=str(n)\n",
    "    for i in range(len(m)):\n",
    "        o = int(m[i])**2\n",
    "        l.append(o)\n",
    "    p=0\n",
    "    for j in l:\n",
    "        p = p + j\n",
    "    n=p\n",
    "    q=str(n)\n",
    "    if p==1:\n",
    "        return('is a Happy Number')\n",
    "    elif len(q)==1:\n",
    "        return('is not a Happy Number')\n",
    "    else:\n",
    "        return(happy_num(n))\n",
    "n = input('Enter a number: ')\n",
    "print(n, happy_num(n))"
   ]
  },
  {
   "cell_type": "markdown",
   "id": "6a3b7155",
   "metadata": {},
   "source": [
    "4) Write a Python program to print all happy numbers between 1 and 100?"
   ]
  },
  {
   "cell_type": "code",
   "execution_count": 5,
   "id": "ad23bb81",
   "metadata": {},
   "outputs": [
    {
     "name": "stdout",
     "output_type": "stream",
     "text": [
      "Happy Numbers in range of 1 and 100: [1, 7, 10, 13, 19, 23, 28, 31, 32, 44, 49, 68, 70, 79, 82, 86, 91, 94, 97, 100]\n"
     ]
    }
   ],
   "source": [
    "def happy_num(n):\n",
    "    l=[]\n",
    "    m=str(n)\n",
    "    for i in range(len(m)):\n",
    "        o = int(m[i])**2\n",
    "        l.append(o)\n",
    "    p=0\n",
    "    for j in l:\n",
    "        p = p + j\n",
    "    n=p\n",
    "    q=str(n)\n",
    "    if p==1:\n",
    "        return(p)\n",
    "    elif len(q)==1:\n",
    "        return(p)\n",
    "    else:\n",
    "        return(happy_num(n))\n",
    "\n",
    "l=[]\n",
    "for i in range(101):\n",
    "    if happy_num(i) == 1:\n",
    "        l.append(i)\n",
    "print('Happy Numbers in range of 1 and 100:',l)"
   ]
  },
  {
   "cell_type": "markdown",
   "id": "050aa7ed",
   "metadata": {},
   "source": [
    "5) Write a Python program to determine whether the given number is a Harshad Number?"
   ]
  },
  {
   "cell_type": "code",
   "execution_count": 6,
   "id": "b2b5e953",
   "metadata": {},
   "outputs": [
    {
     "name": "stdout",
     "output_type": "stream",
     "text": [
      "Enter a number: 1729\n",
      "1729 is a Harshad number\n"
     ]
    }
   ],
   "source": [
    "n = input('Enter a number: ')\n",
    "m=0\n",
    "for i in n:\n",
    "    m = m + int(i)\n",
    "if int(n) % m == 0:\n",
    "    print(n, 'is a Harshad number')\n",
    "else:\n",
    "    print(n, 'is not a Harshad number')"
   ]
  },
  {
   "cell_type": "markdown",
   "id": "2318d71f",
   "metadata": {},
   "source": [
    "6) Write a Python program to print all pronic numbers between 1 and 100?"
   ]
  },
  {
   "cell_type": "code",
   "execution_count": 7,
   "id": "2ef96371",
   "metadata": {},
   "outputs": [
    {
     "name": "stdout",
     "output_type": "stream",
     "text": [
      "Pronic numbers between 1 and 100: [0, 2, 6, 12, 20, 30, 42, 56, 72, 90]\n"
     ]
    }
   ],
   "source": [
    "l=[]\n",
    "for j in range(10):\n",
    "    m = j*(j+1)\n",
    "    l.append(m)\n",
    "print('Pronic numbers between 1 and 100:',l)"
   ]
  }
 ],
 "metadata": {
  "kernelspec": {
   "display_name": "Python 3 (ipykernel)",
   "language": "python",
   "name": "python3"
  },
  "language_info": {
   "codemirror_mode": {
    "name": "ipython",
    "version": 3
   },
   "file_extension": ".py",
   "mimetype": "text/x-python",
   "name": "python",
   "nbconvert_exporter": "python",
   "pygments_lexer": "ipython3",
   "version": "3.10.4"
  }
 },
 "nbformat": 4,
 "nbformat_minor": 5
}
