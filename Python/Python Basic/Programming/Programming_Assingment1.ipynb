{
 "cells": [
  {
   "cell_type": "markdown",
   "id": "d5be5618",
   "metadata": {},
   "source": [
    "1) Write a Python program to print \"Hello Python\"?"
   ]
  },
  {
   "cell_type": "code",
   "execution_count": 2,
   "id": "592336cf",
   "metadata": {},
   "outputs": [
    {
     "name": "stdout",
     "output_type": "stream",
     "text": [
      "Hello Python\n"
     ]
    }
   ],
   "source": [
    "print ('Hello Python')"
   ]
  },
  {
   "cell_type": "markdown",
   "id": "e6ac59cb",
   "metadata": {},
   "source": [
    "2) Write a Python program to do arithmetical operations addition and division?"
   ]
  },
  {
   "cell_type": "code",
   "execution_count": 3,
   "id": "492b7bc7",
   "metadata": {},
   "outputs": [
    {
     "name": "stdout",
     "output_type": "stream",
     "text": [
      "30 0.5\n"
     ]
    }
   ],
   "source": [
    "a=10\n",
    "b=20\n",
    "c=a+b\n",
    "d=a/b\n",
    "print (c, d)"
   ]
  },
  {
   "cell_type": "markdown",
   "id": "cdca07a9",
   "metadata": {},
   "source": [
    "3) Write a Python program to find the area of a triangle?"
   ]
  },
  {
   "cell_type": "code",
   "execution_count": 4,
   "id": "4c472866",
   "metadata": {},
   "outputs": [
    {
     "name": "stdout",
     "output_type": "stream",
     "text": [
      "100.0\n"
     ]
    }
   ],
   "source": [
    "base = 20\n",
    "height = 10\n",
    "area = (base*height)/2\n",
    "print(area)"
   ]
  },
  {
   "cell_type": "markdown",
   "id": "88386384",
   "metadata": {},
   "source": [
    "4) Write a Python program to swap two variables?"
   ]
  },
  {
   "cell_type": "code",
   "execution_count": 5,
   "id": "179386fb",
   "metadata": {},
   "outputs": [
    {
     "name": "stdout",
     "output_type": "stream",
     "text": [
      "20 10\n"
     ]
    }
   ],
   "source": [
    "a=10\n",
    "b=20\n",
    "c=a\n",
    "a=b\n",
    "b=c\n",
    "print (a, b)"
   ]
  },
  {
   "cell_type": "markdown",
   "id": "85adc4c3",
   "metadata": {},
   "source": [
    "5) Write a Python program to generate a random number?"
   ]
  },
  {
   "cell_type": "code",
   "execution_count": 6,
   "id": "4720d068",
   "metadata": {},
   "outputs": [
    {
     "name": "stdout",
     "output_type": "stream",
     "text": [
      "8\n"
     ]
    }
   ],
   "source": [
    "import random\n",
    "n = random.randint(0,9)\n",
    "print(n)"
   ]
  }
 ],
 "metadata": {
  "kernelspec": {
   "display_name": "Python 3 (ipykernel)",
   "language": "python",
   "name": "python3"
  },
  "language_info": {
   "codemirror_mode": {
    "name": "ipython",
    "version": 3
   },
   "file_extension": ".py",
   "mimetype": "text/x-python",
   "name": "python",
   "nbconvert_exporter": "python",
   "pygments_lexer": "ipython3",
   "version": "3.10.4"
  }
 },
 "nbformat": 4,
 "nbformat_minor": 5
}
