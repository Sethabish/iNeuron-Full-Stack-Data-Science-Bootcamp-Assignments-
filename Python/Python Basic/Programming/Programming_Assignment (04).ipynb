{
 "cells": [
  {
   "cell_type": "markdown",
   "id": "0d95cfec",
   "metadata": {},
   "source": [
    "1) Write a Python Program to Find the Factorial of a Number?"
   ]
  },
  {
   "cell_type": "code",
   "execution_count": 1,
   "id": "0ee8614d",
   "metadata": {},
   "outputs": [
    {
     "name": "stdout",
     "output_type": "stream",
     "text": [
      "Enter a number to find factorial: 10\n",
      "Factorial of 10 is: 3628800\n"
     ]
    }
   ],
   "source": [
    "n = int(input('Enter a number to find factorial: '))\n",
    "j = 1\n",
    "for i in range(n):\n",
    "    j = j * (i + 1)\n",
    "print('Factorial of', n, 'is:', j)"
   ]
  },
  {
   "cell_type": "markdown",
   "id": "1d2e43cf",
   "metadata": {},
   "source": [
    "2) Write a Python Program to Display the multiplication Table?"
   ]
  },
  {
   "cell_type": "code",
   "execution_count": 2,
   "id": "94c27bdd",
   "metadata": {},
   "outputs": [
    {
     "name": "stdout",
     "output_type": "stream",
     "text": [
      "Enter a number for its multiplication table: 5\n",
      "5 * 1 = 5\n",
      "5 * 2 = 10\n",
      "5 * 3 = 15\n",
      "5 * 4 = 20\n",
      "5 * 5 = 25\n",
      "5 * 6 = 30\n",
      "5 * 7 = 35\n",
      "5 * 8 = 40\n",
      "5 * 9 = 45\n",
      "5 * 10 = 50\n"
     ]
    }
   ],
   "source": [
    "n = int(input('Enter a number for its multiplication table: '))\n",
    "l = [1,2,3,4,5,6,7,8,9,10]\n",
    "for i in l:\n",
    "    m = n * i\n",
    "    print(n, '*', i, '=', m)"
   ]
  },
  {
   "cell_type": "markdown",
   "id": "6aaae19b",
   "metadata": {},
   "source": [
    "3) Write a Python Program to Print the Fibonacci sequence?"
   ]
  },
  {
   "cell_type": "code",
   "execution_count": 3,
   "id": "a5ceaf2b",
   "metadata": {},
   "outputs": [
    {
     "name": "stdout",
     "output_type": "stream",
     "text": [
      "Enter length of the fibonnaci series: 10\n",
      "Fibonnaci series of length 10 : [0, 1, 1, 2, 3, 5, 8, 13, 21, 34]\n"
     ]
    }
   ],
   "source": [
    "n = int(input('Enter length of the fibonnaci series: '))\n",
    "l=[0]\n",
    "o,i=0,0\n",
    "j=1\n",
    "for k in range(n-1):\n",
    "        o = i + j\n",
    "        j = i\n",
    "        i = o\n",
    "        l.append(o)\n",
    "print('Fibonnaci series of length', n, ':', l)"
   ]
  },
  {
   "cell_type": "markdown",
   "id": "7a4f8de7",
   "metadata": {},
   "source": [
    "4) Write a Python Program to Check Armstrong Number?"
   ]
  },
  {
   "cell_type": "code",
   "execution_count": 4,
   "id": "399de246",
   "metadata": {},
   "outputs": [
    {
     "name": "stdout",
     "output_type": "stream",
     "text": [
      "Enter a number: 371\n",
      "371 is an armstrong number\n"
     ]
    }
   ],
   "source": [
    "n = input('Enter a number: ')\n",
    "m=0\n",
    "for i in n:\n",
    "    m = m + int(i)**len(n)\n",
    "if int(n) == m:\n",
    "    print(n, 'is an armstrong number')\n",
    "else:\n",
    "    print(n, 'is not an armstrong number')"
   ]
  },
  {
   "cell_type": "markdown",
   "id": "043d127b",
   "metadata": {},
   "source": [
    "5) Write a Python Program to Find Armstrong Number in an Interval?"
   ]
  },
  {
   "cell_type": "code",
   "execution_count": 6,
   "id": "119f146a",
   "metadata": {},
   "outputs": [
    {
     "name": "stdout",
     "output_type": "stream",
     "text": [
      "Enter starting number: 1\n",
      "Enter ending number: 1000\n",
      "Armstrong numbers in range of 1 and 1000 are: [1, 2, 3, 4, 5, 6, 7, 8, 9, 153, 370, 371, 407]\n"
     ]
    }
   ],
   "source": [
    "n = int(input('Enter starting number: '))\n",
    "m = int(input('Enter ending number: '))\n",
    "o=n\n",
    "l=[]\n",
    "while n <= m:\n",
    "    l.append(n)\n",
    "    n=n+1\n",
    "p=[]\n",
    "for i in l:\n",
    "    k=0\n",
    "    for j in str(i):\n",
    "        k = k + int(j)**len(str(i))\n",
    "    if i == k:\n",
    "        p.append(k)\n",
    "print('Armstrong numbers in range of', o, 'and', m, 'are:', p)"
   ]
  },
  {
   "cell_type": "markdown",
   "id": "efe52f6f",
   "metadata": {},
   "source": [
    "6) Write a Python Program to Find the Sum of Natural Numbers?"
   ]
  },
  {
   "cell_type": "code",
   "execution_count": 7,
   "id": "6ce93f03",
   "metadata": {},
   "outputs": [
    {
     "name": "stdout",
     "output_type": "stream",
     "text": [
      "Enter a range for sum of natural numbers: 100\n",
      "Sum of natural numbers upto 100 is: 5050\n"
     ]
    }
   ],
   "source": [
    "n = int(input('Enter a range for sum of natural numbers: '))\n",
    "m=0\n",
    "for i in range(n):\n",
    "    m = m + (i+1)\n",
    "print('Sum of natural numbers upto', n, 'is:', m)"
   ]
  }
 ],
 "metadata": {
  "kernelspec": {
   "display_name": "Python 3 (ipykernel)",
   "language": "python",
   "name": "python3"
  },
  "language_info": {
   "codemirror_mode": {
    "name": "ipython",
    "version": 3
   },
   "file_extension": ".py",
   "mimetype": "text/x-python",
   "name": "python",
   "nbconvert_exporter": "python",
   "pygments_lexer": "ipython3",
   "version": "3.10.4"
  }
 },
 "nbformat": 4,
 "nbformat_minor": 5
}
