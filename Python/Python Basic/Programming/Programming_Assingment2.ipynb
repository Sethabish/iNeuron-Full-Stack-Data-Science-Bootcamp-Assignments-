{
 "cells": [
  {
   "cell_type": "markdown",
   "id": "af668984",
   "metadata": {},
   "source": [
    "1) Write a Python program to convert kilometres to miles?"
   ]
  },
  {
   "cell_type": "code",
   "execution_count": 4,
   "id": "2a39e223",
   "metadata": {},
   "outputs": [
    {
     "name": "stdout",
     "output_type": "stream",
     "text": [
      "Enter number of kilometers: 10\n",
      "10 km in miles is 6.21\n"
     ]
    }
   ],
   "source": [
    "km = int(input('Enter number of kilometers: '))\n",
    "miles = km*0.62137\n",
    "print(km, 'km in miles is', round(miles,2))"
   ]
  },
  {
   "cell_type": "markdown",
   "id": "bf43eca9",
   "metadata": {},
   "source": [
    "2) Write a Python program to convert Celsius to Fahrenheit?"
   ]
  },
  {
   "cell_type": "code",
   "execution_count": 5,
   "id": "249f6598",
   "metadata": {},
   "outputs": [
    {
     "name": "stdout",
     "output_type": "stream",
     "text": [
      "Enter celsius: 32\n",
      "32 celsius in fahrenheit is 89.6\n"
     ]
    }
   ],
   "source": [
    "ce = int(input('Enter celsius: '))\n",
    "fa = (ce*1.8)+32\n",
    "print(ce, 'celsius in fahrenheit is', fa)"
   ]
  },
  {
   "cell_type": "markdown",
   "id": "31f7ed7a",
   "metadata": {},
   "source": [
    "3) Write a Python program to display calendar?"
   ]
  },
  {
   "cell_type": "code",
   "execution_count": 6,
   "id": "f16e4f83",
   "metadata": {},
   "outputs": [
    {
     "name": "stdout",
     "output_type": "stream",
     "text": [
      "Enter year: 2022\n",
      "Enter month: 1\n",
      "    January 2022\n",
      "Mo Tu We Th Fr Sa Su\n",
      "                1  2\n",
      " 3  4  5  6  7  8  9\n",
      "10 11 12 13 14 15 16\n",
      "17 18 19 20 21 22 23\n",
      "24 25 26 27 28 29 30\n",
      "31\n",
      "\n"
     ]
    }
   ],
   "source": [
    "import calendar\n",
    "year = int(input(\"Enter year: \"))\n",
    "month = int(input(\"Enter month: \"))\n",
    "if month > 12 or month < 1:\n",
    "    print('Enter month value between 1 and 12')\n",
    "else:\n",
    "    print(calendar.month(year, month))"
   ]
  },
  {
   "cell_type": "markdown",
   "id": "4653243d",
   "metadata": {},
   "source": [
    "4) Write a Python program to solve quadratic equation?"
   ]
  },
  {
   "cell_type": "code",
   "execution_count": 7,
   "id": "2459d6e3",
   "metadata": {},
   "outputs": [
    {
     "name": "stdout",
     "output_type": "stream",
     "text": [
      "The solution are (-0.16666666666666666-1.2801909579781012j) and (-0.16666666666666666+1.2801909579781012j)\n"
     ]
    }
   ],
   "source": [
    "import cmath\n",
    "a = 3\n",
    "b = 1\n",
    "c = 5\n",
    "d = (b**2) - (4*a*c)\n",
    "sol1 = (-b-cmath.sqrt(d))/(2*a)\n",
    "sol2 = (-b+cmath.sqrt(d))/(2*a)\n",
    "print('The solution are {0} and {1}'.format(sol1,sol2))"
   ]
  },
  {
   "cell_type": "markdown",
   "id": "dd15f29c",
   "metadata": {},
   "source": [
    "5) Write a Python program to swap two variables without temp variable?"
   ]
  },
  {
   "cell_type": "code",
   "execution_count": 8,
   "id": "a93cc3c9",
   "metadata": {},
   "outputs": [
    {
     "name": "stdout",
     "output_type": "stream",
     "text": [
      "Value of x :  20  and y :  10\n"
     ]
    }
   ],
   "source": [
    "x = 10\n",
    "y = 20\n",
    "x, y = y, x\n",
    "print('Value of x : ', x, ' and y : ', y)"
   ]
  }
 ],
 "metadata": {
  "kernelspec": {
   "display_name": "Python 3 (ipykernel)",
   "language": "python",
   "name": "python3"
  },
  "language_info": {
   "codemirror_mode": {
    "name": "ipython",
    "version": 3
   },
   "file_extension": ".py",
   "mimetype": "text/x-python",
   "name": "python",
   "nbconvert_exporter": "python",
   "pygments_lexer": "ipython3",
   "version": "3.10.4"
  }
 },
 "nbformat": 4,
 "nbformat_minor": 5
}
