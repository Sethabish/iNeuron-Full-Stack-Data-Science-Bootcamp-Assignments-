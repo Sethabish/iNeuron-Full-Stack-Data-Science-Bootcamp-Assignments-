{
 "cells": [
  {
   "cell_type": "markdown",
   "id": "0d78507f",
   "metadata": {},
   "source": [
    "1) Write a Python program to find sum of elements in list?"
   ]
  },
  {
   "cell_type": "code",
   "execution_count": 1,
   "id": "26574170",
   "metadata": {},
   "outputs": [
    {
     "name": "stdout",
     "output_type": "stream",
     "text": [
      "The sum of elements in the list is: 55\n"
     ]
    }
   ],
   "source": [
    "l=[1,2,3,4,5,6,7,8,9,10]\n",
    "n=0\n",
    "for i in range(len(l)):\n",
    "    n = n + l[i]\n",
    "print('The sum of elements in the list is:',n)"
   ]
  },
  {
   "cell_type": "markdown",
   "id": "dbc007a1",
   "metadata": {},
   "source": [
    "2) Write a Python program to Multiply all numbers in the list?"
   ]
  },
  {
   "cell_type": "code",
   "execution_count": 2,
   "id": "b9048dca",
   "metadata": {},
   "outputs": [
    {
     "name": "stdout",
     "output_type": "stream",
     "text": [
      "The product of elements in the list is: 3628800\n"
     ]
    }
   ],
   "source": [
    "l=[1,2,3,4,5,6,7,8,9,10]\n",
    "n=1\n",
    "for i in range(len(l)):\n",
    "    n = n * l[i]\n",
    "print('The product of elements in the list is:',n)"
   ]
  },
  {
   "cell_type": "markdown",
   "id": "9d2ab11c",
   "metadata": {},
   "source": [
    "3) Write a Python program to find smallest number in a list?"
   ]
  },
  {
   "cell_type": "code",
   "execution_count": 3,
   "id": "b0ba4148",
   "metadata": {},
   "outputs": [
    {
     "name": "stdout",
     "output_type": "stream",
     "text": [
      "The smallest number in the list is: 18\n"
     ]
    }
   ],
   "source": [
    "l=[87,54,76,21,18,99]\n",
    "l.sort()\n",
    "print('The smallest number in the list is:',l[0])"
   ]
  },
  {
   "cell_type": "markdown",
   "id": "07345406",
   "metadata": {},
   "source": [
    "4) Write a Python program to find largest number in a list?"
   ]
  },
  {
   "cell_type": "code",
   "execution_count": 4,
   "id": "82c39813",
   "metadata": {},
   "outputs": [
    {
     "name": "stdout",
     "output_type": "stream",
     "text": [
      "The largest number in the list is: 99\n"
     ]
    }
   ],
   "source": [
    "l=[87,54,76,21,18,99]\n",
    "l.sort()\n",
    "print('The largest number in the list is:',l[-1])"
   ]
  },
  {
   "cell_type": "markdown",
   "id": "fd8fa942",
   "metadata": {},
   "source": [
    "5) Write a Python program to find second largest number in a list?"
   ]
  },
  {
   "cell_type": "code",
   "execution_count": 6,
   "id": "193ce8ee",
   "metadata": {},
   "outputs": [
    {
     "name": "stdout",
     "output_type": "stream",
     "text": [
      "The second largest number in the list is: 87\n"
     ]
    }
   ],
   "source": [
    "l=[87,54,76,21,18,99]\n",
    "l.sort()\n",
    "print('The second largest number in the list is:',l[-2])"
   ]
  },
  {
   "cell_type": "markdown",
   "id": "c062ee12",
   "metadata": {},
   "source": [
    "6) Write a Python program to find N largest elements from a list?"
   ]
  },
  {
   "cell_type": "code",
   "execution_count": 7,
   "id": "0e79b65d",
   "metadata": {},
   "outputs": [
    {
     "name": "stdout",
     "output_type": "stream",
     "text": [
      "Enter a number: 3\n",
      "The first 3 largest numbers in the list are:\n",
      "227\n",
      "105\n",
      "99\n"
     ]
    }
   ],
   "source": [
    "n = int(input('Enter a number: '))\n",
    "l=[87,54,76,21,18,99,105,8,227]\n",
    "print('The first', n, 'largest numbers in the list are:')\n",
    "l.sort(reverse=True)\n",
    "for i in range(n):\n",
    "    print(l[i])"
   ]
  },
  {
   "cell_type": "markdown",
   "id": "4d16a3b5",
   "metadata": {},
   "source": [
    "7) Write a Python program to print even numbers in a list?"
   ]
  },
  {
   "cell_type": "code",
   "execution_count": 8,
   "id": "b962f98b",
   "metadata": {},
   "outputs": [
    {
     "name": "stdout",
     "output_type": "stream",
     "text": [
      "The even numbers in the list are:\n",
      "2\n",
      "4\n",
      "6\n",
      "8\n",
      "10\n"
     ]
    }
   ],
   "source": [
    "l=[1,2,3,4,5,6,7,8,9,10]\n",
    "print('The even numbers in the list are:')\n",
    "for i in l:\n",
    "    if i % 2 == 0:\n",
    "        print(i)"
   ]
  },
  {
   "cell_type": "markdown",
   "id": "77d4a126",
   "metadata": {},
   "source": [
    "8) Write a Python program to print odd numbers in a List?"
   ]
  },
  {
   "cell_type": "code",
   "execution_count": 9,
   "id": "6294c493",
   "metadata": {},
   "outputs": [
    {
     "name": "stdout",
     "output_type": "stream",
     "text": [
      "The odd numbers in the list are:\n",
      "1\n",
      "3\n",
      "5\n",
      "7\n",
      "9\n"
     ]
    }
   ],
   "source": [
    "ll=[1,2,3,4,5,6,7,8,9,10]\n",
    "print('The odd numbers in the list are:')\n",
    "for i in l:\n",
    "    if i % 2 != 0:\n",
    "        print(i)"
   ]
  },
  {
   "cell_type": "markdown",
   "id": "26dbca04",
   "metadata": {},
   "source": [
    "9) Write a Python program to Remove empty List from List?"
   ]
  },
  {
   "cell_type": "code",
   "execution_count": 10,
   "id": "3e146c9e",
   "metadata": {},
   "outputs": [
    {
     "name": "stdout",
     "output_type": "stream",
     "text": [
      "[2, 'abc', [1, 2], ['a', 'b', 'c'], 227, 'xyz']\n"
     ]
    }
   ],
   "source": [
    "l = [2, 'abc', [1,2], [], ['a','b','c'], [], 227, [], 'xyz']\n",
    "for i in l:\n",
    "    if type(i) == list and len(i) == 0:\n",
    "        l.remove(i)\n",
    "print(l)"
   ]
  },
  {
   "cell_type": "markdown",
   "id": "cde0e724",
   "metadata": {},
   "source": [
    "10) Write a Python program to Cloning or Copying a list?"
   ]
  },
  {
   "cell_type": "code",
   "execution_count": 11,
   "id": "40238087",
   "metadata": {},
   "outputs": [
    {
     "name": "stdout",
     "output_type": "stream",
     "text": [
      "[2, 'abc', [1, 2], [], ['a', 'b', 'c'], [], 227, [], 'xyz']\n"
     ]
    }
   ],
   "source": [
    "l = [2, 'abc', [1,2], [], ['a','b','c'], [], 227, [], 'xyz']\n",
    "m=[]\n",
    "for i in l:\n",
    "    m.append(i)\n",
    "print(m)"
   ]
  },
  {
   "cell_type": "markdown",
   "id": "b84e399a",
   "metadata": {},
   "source": [
    "11) Write a Python program to Count occurrences of an element in a list?"
   ]
  },
  {
   "cell_type": "code",
   "execution_count": 12,
   "id": "95d2e8dd",
   "metadata": {},
   "outputs": [
    {
     "name": "stdout",
     "output_type": "stream",
     "text": [
      "1 5\n",
      "2 4\n",
      "3 3\n",
      "4 2\n",
      "5 1\n"
     ]
    }
   ],
   "source": [
    "l = [1,1,1,1,1,2,2,2,2,3,3,3,4,4,5]\n",
    "for i in set(l):\n",
    "    m=l.count(i)\n",
    "    print(i, m)"
   ]
  }
 ],
 "metadata": {
  "kernelspec": {
   "display_name": "Python 3 (ipykernel)",
   "language": "python",
   "name": "python3"
  },
  "language_info": {
   "codemirror_mode": {
    "name": "ipython",
    "version": 3
   },
   "file_extension": ".py",
   "mimetype": "text/x-python",
   "name": "python",
   "nbconvert_exporter": "python",
   "pygments_lexer": "ipython3",
   "version": "3.10.4"
  }
 },
 "nbformat": 4,
 "nbformat_minor": 5
}
